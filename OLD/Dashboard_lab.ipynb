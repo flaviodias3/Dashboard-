{
 "cells": [
  {
   "cell_type": "code",
   "execution_count": 96,
   "metadata": {},
   "outputs": [],
   "source": [
    "#Packages used\n",
    "\n",
    "#pip install --trusted-host pypi.org --trusted-host files.pythonhosted.org pandas as pd -vvv\n",
    "#pip install openpyxl\n",
    "#python -m  py install dash\n",
    "#pip install dash-bootstrap-components\n",
    "#pip install numpy"
   ]
  },
  {
   "cell_type": "code",
   "execution_count": 97,
   "metadata": {},
   "outputs": [],
   "source": [
    "import pandas as pd\n",
    "import numpy as np\n",
    "from dash import Dash, html, dcc, Input, Output, callback, dash_table, State\n",
    "from datetime import datetime as dt\n",
    "from datetime import timedelta\n",
    "import dash_bootstrap_components as dbc\n",
    "import plotly.graph_objects as go\n",
    "import random\n",
    "import plotly.express as px\n",
    "from plotly.subplots import make_subplots\n",
    "\n",
    "\n"
   ]
  },
  {
   "cell_type": "code",
   "execution_count": 98,
   "metadata": {},
   "outputs": [
    {
     "name": "stderr",
     "output_type": "stream",
     "text": [
      "c:\\Users\\e2023898\\AppData\\Local\\Programs\\Python\\Python312\\Lib\\site-packages\\openpyxl\\worksheet\\_reader.py:329: UserWarning:\n",
      "\n",
      "Data Validation extension is not supported and will be removed\n",
      "\n",
      "c:\\Users\\e2023898\\AppData\\Local\\Programs\\Python\\Python312\\Lib\\site-packages\\openpyxl\\worksheet\\_reader.py:329: UserWarning:\n",
      "\n",
      "Data Validation extension is not supported and will be removed\n",
      "\n"
     ]
    },
    {
     "data": {
      "text/html": [
       "<div>\n",
       "<style scoped>\n",
       "    .dataframe tbody tr th:only-of-type {\n",
       "        vertical-align: middle;\n",
       "    }\n",
       "\n",
       "    .dataframe tbody tr th {\n",
       "        vertical-align: top;\n",
       "    }\n",
       "\n",
       "    .dataframe thead th {\n",
       "        text-align: right;\n",
       "    }\n",
       "</style>\n",
       "<table border=\"1\" class=\"dataframe\">\n",
       "  <thead>\n",
       "    <tr style=\"text-align: right;\">\n",
       "      <th></th>\n",
       "      <th>FAMILY</th>\n",
       "      <th>P_N</th>\n",
       "      <th>POWER.W</th>\n",
       "      <th>PRODUCTION.START</th>\n",
       "      <th>PRODUCTION.P</th>\n",
       "      <th>PRODUCTION.STATUS</th>\n",
       "      <th>CELL</th>\n",
       "      <th>FLUIDO.CHILLER</th>\n",
       "      <th>T.FLUIDO</th>\n",
       "      <th>T.AMBIENTE</th>\n",
       "      <th>...</th>\n",
       "      <th>STIMATION</th>\n",
       "      <th>OPERATORE</th>\n",
       "      <th>START.DATE</th>\n",
       "      <th>DURATION</th>\n",
       "      <th>TEST.TYPE</th>\n",
       "      <th>CELL.CHECK</th>\n",
       "      <th>TEST.REMARKS</th>\n",
       "      <th>P.N_CHECK</th>\n",
       "      <th>DECLARED.POWER.W</th>\n",
       "      <th>CIRCUITS</th>\n",
       "    </tr>\n",
       "  </thead>\n",
       "  <tbody>\n",
       "    <tr>\n",
       "      <th>0</th>\n",
       "      <td>TAL</td>\n",
       "      <td>TAL29EMSBC00000</td>\n",
       "      <td>2900</td>\n",
       "      <td>COMPLETED</td>\n",
       "      <td>100.0</td>\n",
       "      <td>READY</td>\n",
       "      <td>Chiller</td>\n",
       "      <td>W</td>\n",
       "      <td>17.6</td>\n",
       "      <td>32.0</td>\n",
       "      <td>...</td>\n",
       "      <td>NaN</td>\n",
       "      <td>NaN</td>\n",
       "      <td>NaT</td>\n",
       "      <td>NaN</td>\n",
       "      <td>NaN</td>\n",
       "      <td>NaN</td>\n",
       "      <td>NaN</td>\n",
       "      <td>NaN</td>\n",
       "      <td>NaN</td>\n",
       "      <td>NaN</td>\n",
       "    </tr>\n",
       "    <tr>\n",
       "      <th>1</th>\n",
       "      <td>TLA</td>\n",
       "      <td>TLA57EMSBC00000</td>\n",
       "      <td>6000</td>\n",
       "      <td>COMPLETED</td>\n",
       "      <td>100.0</td>\n",
       "      <td>READY</td>\n",
       "      <td>Chiller</td>\n",
       "      <td>W</td>\n",
       "      <td>18.1</td>\n",
       "      <td>32.0</td>\n",
       "      <td>...</td>\n",
       "      <td>NaN</td>\n",
       "      <td>NaN</td>\n",
       "      <td>NaT</td>\n",
       "      <td>NaN</td>\n",
       "      <td>NaN</td>\n",
       "      <td>NaN</td>\n",
       "      <td>NaN</td>\n",
       "      <td>NaN</td>\n",
       "      <td>NaN</td>\n",
       "      <td>NaN</td>\n",
       "    </tr>\n",
       "    <tr>\n",
       "      <th>2</th>\n",
       "      <td>TAL</td>\n",
       "      <td>TAL93EMSBC00000</td>\n",
       "      <td>9550</td>\n",
       "      <td>COMPLETED</td>\n",
       "      <td>100.0</td>\n",
       "      <td>READY</td>\n",
       "      <td>Chiller</td>\n",
       "      <td>W</td>\n",
       "      <td>19.6</td>\n",
       "      <td>32.0</td>\n",
       "      <td>...</td>\n",
       "      <td>NaN</td>\n",
       "      <td>NaN</td>\n",
       "      <td>NaT</td>\n",
       "      <td>NaN</td>\n",
       "      <td>NaN</td>\n",
       "      <td>NaN</td>\n",
       "      <td>NaN</td>\n",
       "      <td>NaN</td>\n",
       "      <td>NaN</td>\n",
       "      <td>NaN</td>\n",
       "    </tr>\n",
       "    <tr>\n",
       "      <th>3</th>\n",
       "      <td>TAL</td>\n",
       "      <td>TAL93EMSBC00000</td>\n",
       "      <td>9550</td>\n",
       "      <td>COMPLETED</td>\n",
       "      <td>100.0</td>\n",
       "      <td>READY</td>\n",
       "      <td>Chiller</td>\n",
       "      <td>W</td>\n",
       "      <td>19.9</td>\n",
       "      <td>32.0</td>\n",
       "      <td>...</td>\n",
       "      <td>NaN</td>\n",
       "      <td>NaN</td>\n",
       "      <td>NaT</td>\n",
       "      <td>NaN</td>\n",
       "      <td>NaN</td>\n",
       "      <td>NaN</td>\n",
       "      <td>NaN</td>\n",
       "      <td>NaN</td>\n",
       "      <td>NaN</td>\n",
       "      <td>NaN</td>\n",
       "    </tr>\n",
       "    <tr>\n",
       "      <th>4</th>\n",
       "      <td>TAL</td>\n",
       "      <td>TAL76EMSBC00000</td>\n",
       "      <td>8100</td>\n",
       "      <td>COMPLETED</td>\n",
       "      <td>100.0</td>\n",
       "      <td>READY</td>\n",
       "      <td>Chiller</td>\n",
       "      <td>W</td>\n",
       "      <td>20.0</td>\n",
       "      <td>32.0</td>\n",
       "      <td>...</td>\n",
       "      <td>NaN</td>\n",
       "      <td>NaN</td>\n",
       "      <td>NaT</td>\n",
       "      <td>NaN</td>\n",
       "      <td>NaN</td>\n",
       "      <td>NaN</td>\n",
       "      <td>NaN</td>\n",
       "      <td>NaN</td>\n",
       "      <td>NaN</td>\n",
       "      <td>NaN</td>\n",
       "    </tr>\n",
       "  </tbody>\n",
       "</table>\n",
       "<p>5 rows × 52 columns</p>\n",
       "</div>"
      ],
      "text/plain": [
       "  FAMILY              P_N POWER.W PRODUCTION.START  PRODUCTION.P  \\\n",
       "0    TAL  TAL29EMSBC00000    2900        COMPLETED         100.0   \n",
       "1    TLA  TLA57EMSBC00000    6000        COMPLETED         100.0   \n",
       "2    TAL  TAL93EMSBC00000    9550        COMPLETED         100.0   \n",
       "3    TAL  TAL93EMSBC00000    9550        COMPLETED         100.0   \n",
       "4    TAL  TAL76EMSBC00000    8100        COMPLETED         100.0   \n",
       "\n",
       "  PRODUCTION.STATUS     CELL FLUIDO.CHILLER  T.FLUIDO  T.AMBIENTE  ...  \\\n",
       "0             READY  Chiller              W      17.6        32.0  ...   \n",
       "1             READY  Chiller              W      18.1        32.0  ...   \n",
       "2             READY  Chiller              W      19.6        32.0  ...   \n",
       "3             READY  Chiller              W      19.9        32.0  ...   \n",
       "4             READY  Chiller              W      20.0        32.0  ...   \n",
       "\n",
       "  STIMATION OPERATORE START.DATE DURATION  TEST.TYPE  CELL.CHECK TEST.REMARKS  \\\n",
       "0       NaN       NaN        NaT      NaN        NaN         NaN          NaN   \n",
       "1       NaN       NaN        NaT      NaN        NaN         NaN          NaN   \n",
       "2       NaN       NaN        NaT      NaN        NaN         NaN          NaN   \n",
       "3       NaN       NaN        NaT      NaN        NaN         NaN          NaN   \n",
       "4       NaN       NaN        NaT      NaN        NaN         NaN          NaN   \n",
       "\n",
       "  P.N_CHECK DECLARED.POWER.W CIRCUITS  \n",
       "0       NaN              NaN      NaN  \n",
       "1       NaN              NaN      NaN  \n",
       "2       NaN              NaN      NaN  \n",
       "3       NaN              NaN      NaN  \n",
       "4       NaN              NaN      NaN  \n",
       "\n",
       "[5 rows x 52 columns]"
      ]
     },
     "execution_count": 98,
     "metadata": {},
     "output_type": "execute_result"
    }
   ],
   "source": [
    "test_data_new = pd.read_excel('Plan.xlsx', header = 0, sheet_name = 'TEST') # Import data from new database\n",
    "test_data_new.dropna(how='all')\n",
    "test_data_new.dropna(axis=1, how='all', inplace=True)\n",
    "\n",
    "test_data_old= pd.read_excel('Plan.xlsx', header = 0, sheet_name = 'OLD') # Import data from old database\n",
    "test_data_old.dropna(how='all')\n",
    "\n",
    "test_data_old.dropna(axis=1, how='all', inplace=True)  \n",
    "\n",
    "total_data = pd.concat([test_data_old, test_data_new], ignore_index=True) # Concatenate databases\n",
    "\n",
    "total_data.head(5)"
   ]
  },
  {
   "cell_type": "code",
   "execution_count": 99,
   "metadata": {},
   "outputs": [],
   "source": [
    "# CALENDAR FROM CELLS AND OPERATORS\n",
    "\n",
    "cells_calendar = pd.read_excel('Plan.xlsx', header = 0, sheet_name = 'CELLS') # Import data from new database\n",
    "#cells_calendar.head()\n",
    "\n",
    "operatos_calendar = pd.read_excel('Plan.xlsx', header = 0, sheet_name = 'OPERATORS') # Import data from new database\n",
    "#operators_calendar.head()"
   ]
  },
  {
   "cell_type": "code",
   "execution_count": 100,
   "metadata": {},
   "outputs": [],
   "source": [
    "#DECLARE FLUID PARAMETERS\n",
    "\n",
    "cp_water = 4186 # J.(KG.°C)^(-1)\n",
    "specific_mass_water = 1000 #kg/m3\n",
    "\n",
    "cp_oil = 1880 # J.(KG.°C)^(-1)\n",
    "specific_mass_oil = 900 #kg/m3\n",
    "\n",
    "cp_glycol = 2533 # J.(KG.°C)^(-1)\n",
    "specific_mass_glycol = 1040 #kg/m3\n"
   ]
  },
  {
   "cell_type": "code",
   "execution_count": 101,
   "metadata": {},
   "outputs": [],
   "source": [
    "#CALCULATE CP, RO PARAMETERS\n",
    "\n",
    "total_data['PERC.M']= pd.to_numeric(total_data['PERC.M'], errors='coerce')\n",
    "convertion_flow = 0.06 # convert flow from l/min to m3/s\n",
    "\n",
    "total_data['CP']= 0 # Declare specific heat J.(KG.°C)^(-1)\n",
    "total_data['RO']= 0 # Declare specific heat J.(KG.°C)^(-1)\n",
    "\n",
    "total_data[\"RO\"] = np.where(total_data[\"FLUIDO.CHILLER\"] == 'W', specific_mass_water, \n",
    "                            (np.where(total_data[\"FLUIDO.CHILLER\"] == 'O', specific_mass_oil, \n",
    "                                      (np.where(total_data[\"FLUIDO.CHILLER\"] == 'E', (((100-total_data[\"PERC.M\"])*specific_mass_water) + (total_data[\"PERC.M\"]*specific_mass_oil))/100,\n",
    "                                                (np.where(total_data[\"FLUIDO.CHILLER\"] == 'G', (((100-total_data[\"PERC.M\"])*specific_mass_water) + (total_data[\"PERC.M\"]*specific_mass_glycol))/100, 0          \n",
    "                                      )))))))\n",
    "\n",
    "total_data[\"CP\"] = np.where(total_data[\"FLUIDO.CHILLER\"] == 'W', cp_water, \n",
    "                            (np.where(total_data[\"FLUIDO.CHILLER\"] == 'O', cp_oil, \n",
    "                                      (np.where(total_data[\"FLUIDO.CHILLER\"] == 'E', (((100-total_data[\"PERC.M\"])*cp_water) + (total_data[\"PERC.M\"]*cp_oil))/100,\n",
    "                                                (np.where(total_data[\"FLUIDO.CHILLER\"] == 'G', (((100-total_data[\"PERC.M\"])*cp_water) + (total_data[\"PERC.M\"]*cp_glycol))/100, 0          \n",
    "                                      )))))))  \n",
    "\n",
    "#total_data[['FLUIDO.CHILLER','WORK.FLUID','CP','RO', 'PERC.M']].head()\n"
   ]
  },
  {
   "cell_type": "code",
   "execution_count": 102,
   "metadata": {},
   "outputs": [],
   "source": [
    "# POWER CALCULATION\n",
    "\n",
    "convertion_flow = 0.00001666 # convert flow from l/min to m3/s\n",
    "\n",
    "total_data['DELTA'] = (total_data['T.OUT.F.M_C']-total_data['T.IN.F.M_C']).abs() # [°C]\n",
    "\n",
    "total_data['CALCULATE.POWER'] = total_data['FLUID.FLOW.L_MIN']*convertion_flow * total_data['CP'] * total_data['DELTA'] # [kW]\n",
    "\n",
    "#total_data[['P_N','FLUID.FLOW.L_MIN', 'CP', 'DELTA', 'CALCULATE.POWER']].head()"
   ]
  },
  {
   "cell_type": "code",
   "execution_count": 103,
   "metadata": {},
   "outputs": [],
   "source": [
    "# SETTIME PARAMETERS AS DATETIME\n",
    "\n",
    "total_data['STIMATION'] =  pd.to_timedelta(total_data['STIMATION'], unit='h')\n",
    "total_data['DURATION'] =  pd.to_timedelta(total_data['DURATION'], unit='h')\n",
    "\n",
    "#total_data[['AVAILABILITY', 'DUE.DATE', 'STIMATION', 'START.DATE', 'END.DATE', 'DURATION']].dtypes"
   ]
  },
  {
   "cell_type": "code",
   "execution_count": 104,
   "metadata": {},
   "outputs": [
    {
     "data": {
      "text/html": [
       "<div>\n",
       "<style scoped>\n",
       "    .dataframe tbody tr th:only-of-type {\n",
       "        vertical-align: middle;\n",
       "    }\n",
       "\n",
       "    .dataframe tbody tr th {\n",
       "        vertical-align: top;\n",
       "    }\n",
       "\n",
       "    .dataframe thead th {\n",
       "        text-align: right;\n",
       "    }\n",
       "</style>\n",
       "<table border=\"1\" class=\"dataframe\">\n",
       "  <thead>\n",
       "    <tr style=\"text-align: right;\">\n",
       "      <th></th>\n",
       "      <th>CELL</th>\n",
       "      <th>STIMATION</th>\n",
       "      <th>DURATION</th>\n",
       "      <th>CELL.AVAILABILITY</th>\n",
       "      <th>STIMATED.USAGE</th>\n",
       "      <th>EFFETIVE.USAGE</th>\n",
       "    </tr>\n",
       "  </thead>\n",
       "  <tbody>\n",
       "    <tr>\n",
       "      <th>0</th>\n",
       "      <td>60</td>\n",
       "      <td>0 days 08:00:00</td>\n",
       "      <td>1 days 10:00:00</td>\n",
       "      <td>5 days 18:00:00</td>\n",
       "      <td>5.797101</td>\n",
       "      <td>24.637681</td>\n",
       "    </tr>\n",
       "    <tr>\n",
       "      <th>1</th>\n",
       "      <td>110</td>\n",
       "      <td>1 days 00:00:00</td>\n",
       "      <td>2 days 16:48:00</td>\n",
       "      <td>7 days 16:00:00</td>\n",
       "      <td>13.043478</td>\n",
       "      <td>35.217391</td>\n",
       "    </tr>\n",
       "  </tbody>\n",
       "</table>\n",
       "</div>"
      ],
      "text/plain": [
       "   CELL       STIMATION        DURATION CELL.AVAILABILITY  STIMATED.USAGE  \\\n",
       "0    60 0 days 08:00:00 1 days 10:00:00   5 days 18:00:00        5.797101   \n",
       "1   110 1 days 00:00:00 2 days 16:48:00   7 days 16:00:00       13.043478   \n",
       "\n",
       "   EFFETIVE.USAGE  \n",
       "0       24.637681  \n",
       "1       35.217391  "
      ]
     },
     "metadata": {},
     "output_type": "display_data"
    }
   ],
   "source": [
    "# TIME CALCULATION\n",
    "\n",
    "#SET INTEREST INTERVAL\n",
    "\n",
    "start_date = dt(2024, 9, 10) # (Y/M/D/H/min...)\n",
    "end_date = dt(2024, 10, 10) # (Y/M/D/H/min...)\n",
    "\n",
    "#____________________________________________________________________________________________________________________________________\n",
    "#EXTRACT BUSSINESS DAYS BETWEEN THE DATES\n",
    "\n",
    "work_days = pd.bdate_range(start_date, end_date) #Defines number of bussiness days between stard date and end date\n",
    "#print(len(work_days))\n",
    "\n",
    "#_____________________________________________________________________________________________________________________________________\n",
    "#FILTER DATAFRAME BY DATE\n",
    "mask = (total_data['AVAILABILITY']  >= start_date)  & (total_data['DUE.DATE'] <= end_date)\n",
    "\n",
    "total_data_filtered_by_date = total_data.loc[mask] # all Data filtered by set date\n",
    "\n",
    "cell_usage_table = total_data_filtered_by_date[['CELL', 'STIMATION', 'DURATION']] #Time table\n",
    "\n",
    "#_____________________________________________________________________________________________________________________________________\n",
    "#CALCULATE TOTAL TIME FOR EACH CELL\n",
    "\n",
    "cell_hours_usage = cell_usage_table.groupby(['CELL']).sum().reset_index() #Total time grouped by cell\n",
    "\n",
    "#display(cell_hours_usage)\n",
    "\n",
    "#_____________________________________________________________________________________________________________________________________\n",
    "#CELL PREDICTED AND EFFETIVE USAGE\n",
    "\n",
    "cell_40_daily = timedelta(hours = 10) # Max usage of the cell\n",
    "cell_60_daily = timedelta(hours=6) # Max usage of the cell\n",
    "cell_110_daily = timedelta(hours=8) # Max usage of the cell\n",
    "\n",
    "cell_40_availability = len(work_days)*cell_40_daily #availability in the set period\n",
    "cell_60_availability = len(work_days)*cell_60_daily #availability in the set period\n",
    "cell_110_availability = len(work_days)*cell_110_daily #availability in the set period\n",
    "\n",
    "cell_hours_usage['CELL.AVAILABILITY'] = np.where(cell_hours_usage['CELL'] == 40, cell_40_availability,\n",
    "                                                 (np.where(cell_hours_usage['CELL'] == 60, cell_60_availability,\n",
    "                                                           np.where(cell_hours_usage['CELL'] == 110, cell_110_availability,0)   \n",
    "                                                 )))\n",
    "\n",
    "cell_hours_usage['STIMATED.USAGE'] = cell_hours_usage['STIMATION']*100/cell_hours_usage['CELL.AVAILABILITY']\n",
    "cell_hours_usage['EFFETIVE.USAGE'] = cell_hours_usage['DURATION']*100/cell_hours_usage['CELL.AVAILABILITY']\n",
    "                               \n",
    "display(cell_hours_usage)"
   ]
  },
  {
   "cell_type": "code",
   "execution_count": 105,
   "metadata": {},
   "outputs": [
    {
     "data": {
      "application/vnd.plotly.v1+json": {
       "config": {
        "plotlyServerURL": "https://plot.ly"
       },
       "data": [
        {
         "domain": {
          "x": [
           0,
           1
          ],
          "y": [
           0,
           1
          ]
         },
         "gauge": {
          "axis": {
           "range": [
            null,
            100
           ]
          },
          "steps": [
           {
            "color": "lightgray",
            "range": [
             0,
             50
            ]
           },
           {
            "color": "gray",
            "range": [
             50,
             75
            ]
           }
          ],
          "threshold": {
           "line": {
            "color": "red",
            "width": 4
           },
           "thickness": 0.75,
           "value": 95
          }
         },
         "mode": "gauge+number",
         "title": {
          "text": "CURRENT USAGE - STIMATED - CELL 060"
         },
         "type": "indicator",
         "value": 5.797101449275362
        }
       ],
       "layout": {
        "template": {
         "data": {
          "bar": [
           {
            "error_x": {
             "color": "#2a3f5f"
            },
            "error_y": {
             "color": "#2a3f5f"
            },
            "marker": {
             "line": {
              "color": "#E5ECF6",
              "width": 0.5
             },
             "pattern": {
              "fillmode": "overlay",
              "size": 10,
              "solidity": 0.2
             }
            },
            "type": "bar"
           }
          ],
          "barpolar": [
           {
            "marker": {
             "line": {
              "color": "#E5ECF6",
              "width": 0.5
             },
             "pattern": {
              "fillmode": "overlay",
              "size": 10,
              "solidity": 0.2
             }
            },
            "type": "barpolar"
           }
          ],
          "carpet": [
           {
            "aaxis": {
             "endlinecolor": "#2a3f5f",
             "gridcolor": "white",
             "linecolor": "white",
             "minorgridcolor": "white",
             "startlinecolor": "#2a3f5f"
            },
            "baxis": {
             "endlinecolor": "#2a3f5f",
             "gridcolor": "white",
             "linecolor": "white",
             "minorgridcolor": "white",
             "startlinecolor": "#2a3f5f"
            },
            "type": "carpet"
           }
          ],
          "choropleth": [
           {
            "colorbar": {
             "outlinewidth": 0,
             "ticks": ""
            },
            "type": "choropleth"
           }
          ],
          "contour": [
           {
            "colorbar": {
             "outlinewidth": 0,
             "ticks": ""
            },
            "colorscale": [
             [
              0,
              "#0d0887"
             ],
             [
              0.1111111111111111,
              "#46039f"
             ],
             [
              0.2222222222222222,
              "#7201a8"
             ],
             [
              0.3333333333333333,
              "#9c179e"
             ],
             [
              0.4444444444444444,
              "#bd3786"
             ],
             [
              0.5555555555555556,
              "#d8576b"
             ],
             [
              0.6666666666666666,
              "#ed7953"
             ],
             [
              0.7777777777777778,
              "#fb9f3a"
             ],
             [
              0.8888888888888888,
              "#fdca26"
             ],
             [
              1,
              "#f0f921"
             ]
            ],
            "type": "contour"
           }
          ],
          "contourcarpet": [
           {
            "colorbar": {
             "outlinewidth": 0,
             "ticks": ""
            },
            "type": "contourcarpet"
           }
          ],
          "heatmap": [
           {
            "colorbar": {
             "outlinewidth": 0,
             "ticks": ""
            },
            "colorscale": [
             [
              0,
              "#0d0887"
             ],
             [
              0.1111111111111111,
              "#46039f"
             ],
             [
              0.2222222222222222,
              "#7201a8"
             ],
             [
              0.3333333333333333,
              "#9c179e"
             ],
             [
              0.4444444444444444,
              "#bd3786"
             ],
             [
              0.5555555555555556,
              "#d8576b"
             ],
             [
              0.6666666666666666,
              "#ed7953"
             ],
             [
              0.7777777777777778,
              "#fb9f3a"
             ],
             [
              0.8888888888888888,
              "#fdca26"
             ],
             [
              1,
              "#f0f921"
             ]
            ],
            "type": "heatmap"
           }
          ],
          "heatmapgl": [
           {
            "colorbar": {
             "outlinewidth": 0,
             "ticks": ""
            },
            "colorscale": [
             [
              0,
              "#0d0887"
             ],
             [
              0.1111111111111111,
              "#46039f"
             ],
             [
              0.2222222222222222,
              "#7201a8"
             ],
             [
              0.3333333333333333,
              "#9c179e"
             ],
             [
              0.4444444444444444,
              "#bd3786"
             ],
             [
              0.5555555555555556,
              "#d8576b"
             ],
             [
              0.6666666666666666,
              "#ed7953"
             ],
             [
              0.7777777777777778,
              "#fb9f3a"
             ],
             [
              0.8888888888888888,
              "#fdca26"
             ],
             [
              1,
              "#f0f921"
             ]
            ],
            "type": "heatmapgl"
           }
          ],
          "histogram": [
           {
            "marker": {
             "pattern": {
              "fillmode": "overlay",
              "size": 10,
              "solidity": 0.2
             }
            },
            "type": "histogram"
           }
          ],
          "histogram2d": [
           {
            "colorbar": {
             "outlinewidth": 0,
             "ticks": ""
            },
            "colorscale": [
             [
              0,
              "#0d0887"
             ],
             [
              0.1111111111111111,
              "#46039f"
             ],
             [
              0.2222222222222222,
              "#7201a8"
             ],
             [
              0.3333333333333333,
              "#9c179e"
             ],
             [
              0.4444444444444444,
              "#bd3786"
             ],
             [
              0.5555555555555556,
              "#d8576b"
             ],
             [
              0.6666666666666666,
              "#ed7953"
             ],
             [
              0.7777777777777778,
              "#fb9f3a"
             ],
             [
              0.8888888888888888,
              "#fdca26"
             ],
             [
              1,
              "#f0f921"
             ]
            ],
            "type": "histogram2d"
           }
          ],
          "histogram2dcontour": [
           {
            "colorbar": {
             "outlinewidth": 0,
             "ticks": ""
            },
            "colorscale": [
             [
              0,
              "#0d0887"
             ],
             [
              0.1111111111111111,
              "#46039f"
             ],
             [
              0.2222222222222222,
              "#7201a8"
             ],
             [
              0.3333333333333333,
              "#9c179e"
             ],
             [
              0.4444444444444444,
              "#bd3786"
             ],
             [
              0.5555555555555556,
              "#d8576b"
             ],
             [
              0.6666666666666666,
              "#ed7953"
             ],
             [
              0.7777777777777778,
              "#fb9f3a"
             ],
             [
              0.8888888888888888,
              "#fdca26"
             ],
             [
              1,
              "#f0f921"
             ]
            ],
            "type": "histogram2dcontour"
           }
          ],
          "mesh3d": [
           {
            "colorbar": {
             "outlinewidth": 0,
             "ticks": ""
            },
            "type": "mesh3d"
           }
          ],
          "parcoords": [
           {
            "line": {
             "colorbar": {
              "outlinewidth": 0,
              "ticks": ""
             }
            },
            "type": "parcoords"
           }
          ],
          "pie": [
           {
            "automargin": true,
            "type": "pie"
           }
          ],
          "scatter": [
           {
            "fillpattern": {
             "fillmode": "overlay",
             "size": 10,
             "solidity": 0.2
            },
            "type": "scatter"
           }
          ],
          "scatter3d": [
           {
            "line": {
             "colorbar": {
              "outlinewidth": 0,
              "ticks": ""
             }
            },
            "marker": {
             "colorbar": {
              "outlinewidth": 0,
              "ticks": ""
             }
            },
            "type": "scatter3d"
           }
          ],
          "scattercarpet": [
           {
            "marker": {
             "colorbar": {
              "outlinewidth": 0,
              "ticks": ""
             }
            },
            "type": "scattercarpet"
           }
          ],
          "scattergeo": [
           {
            "marker": {
             "colorbar": {
              "outlinewidth": 0,
              "ticks": ""
             }
            },
            "type": "scattergeo"
           }
          ],
          "scattergl": [
           {
            "marker": {
             "colorbar": {
              "outlinewidth": 0,
              "ticks": ""
             }
            },
            "type": "scattergl"
           }
          ],
          "scattermapbox": [
           {
            "marker": {
             "colorbar": {
              "outlinewidth": 0,
              "ticks": ""
             }
            },
            "type": "scattermapbox"
           }
          ],
          "scatterpolar": [
           {
            "marker": {
             "colorbar": {
              "outlinewidth": 0,
              "ticks": ""
             }
            },
            "type": "scatterpolar"
           }
          ],
          "scatterpolargl": [
           {
            "marker": {
             "colorbar": {
              "outlinewidth": 0,
              "ticks": ""
             }
            },
            "type": "scatterpolargl"
           }
          ],
          "scatterternary": [
           {
            "marker": {
             "colorbar": {
              "outlinewidth": 0,
              "ticks": ""
             }
            },
            "type": "scatterternary"
           }
          ],
          "surface": [
           {
            "colorbar": {
             "outlinewidth": 0,
             "ticks": ""
            },
            "colorscale": [
             [
              0,
              "#0d0887"
             ],
             [
              0.1111111111111111,
              "#46039f"
             ],
             [
              0.2222222222222222,
              "#7201a8"
             ],
             [
              0.3333333333333333,
              "#9c179e"
             ],
             [
              0.4444444444444444,
              "#bd3786"
             ],
             [
              0.5555555555555556,
              "#d8576b"
             ],
             [
              0.6666666666666666,
              "#ed7953"
             ],
             [
              0.7777777777777778,
              "#fb9f3a"
             ],
             [
              0.8888888888888888,
              "#fdca26"
             ],
             [
              1,
              "#f0f921"
             ]
            ],
            "type": "surface"
           }
          ],
          "table": [
           {
            "cells": {
             "fill": {
              "color": "#EBF0F8"
             },
             "line": {
              "color": "white"
             }
            },
            "header": {
             "fill": {
              "color": "#C8D4E3"
             },
             "line": {
              "color": "white"
             }
            },
            "type": "table"
           }
          ]
         },
         "layout": {
          "annotationdefaults": {
           "arrowcolor": "#2a3f5f",
           "arrowhead": 0,
           "arrowwidth": 1
          },
          "autotypenumbers": "strict",
          "coloraxis": {
           "colorbar": {
            "outlinewidth": 0,
            "ticks": ""
           }
          },
          "colorscale": {
           "diverging": [
            [
             0,
             "#8e0152"
            ],
            [
             0.1,
             "#c51b7d"
            ],
            [
             0.2,
             "#de77ae"
            ],
            [
             0.3,
             "#f1b6da"
            ],
            [
             0.4,
             "#fde0ef"
            ],
            [
             0.5,
             "#f7f7f7"
            ],
            [
             0.6,
             "#e6f5d0"
            ],
            [
             0.7,
             "#b8e186"
            ],
            [
             0.8,
             "#7fbc41"
            ],
            [
             0.9,
             "#4d9221"
            ],
            [
             1,
             "#276419"
            ]
           ],
           "sequential": [
            [
             0,
             "#0d0887"
            ],
            [
             0.1111111111111111,
             "#46039f"
            ],
            [
             0.2222222222222222,
             "#7201a8"
            ],
            [
             0.3333333333333333,
             "#9c179e"
            ],
            [
             0.4444444444444444,
             "#bd3786"
            ],
            [
             0.5555555555555556,
             "#d8576b"
            ],
            [
             0.6666666666666666,
             "#ed7953"
            ],
            [
             0.7777777777777778,
             "#fb9f3a"
            ],
            [
             0.8888888888888888,
             "#fdca26"
            ],
            [
             1,
             "#f0f921"
            ]
           ],
           "sequentialminus": [
            [
             0,
             "#0d0887"
            ],
            [
             0.1111111111111111,
             "#46039f"
            ],
            [
             0.2222222222222222,
             "#7201a8"
            ],
            [
             0.3333333333333333,
             "#9c179e"
            ],
            [
             0.4444444444444444,
             "#bd3786"
            ],
            [
             0.5555555555555556,
             "#d8576b"
            ],
            [
             0.6666666666666666,
             "#ed7953"
            ],
            [
             0.7777777777777778,
             "#fb9f3a"
            ],
            [
             0.8888888888888888,
             "#fdca26"
            ],
            [
             1,
             "#f0f921"
            ]
           ]
          },
          "colorway": [
           "#636efa",
           "#EF553B",
           "#00cc96",
           "#ab63fa",
           "#FFA15A",
           "#19d3f3",
           "#FF6692",
           "#B6E880",
           "#FF97FF",
           "#FECB52"
          ],
          "font": {
           "color": "#2a3f5f"
          },
          "geo": {
           "bgcolor": "white",
           "lakecolor": "white",
           "landcolor": "#E5ECF6",
           "showlakes": true,
           "showland": true,
           "subunitcolor": "white"
          },
          "hoverlabel": {
           "align": "left"
          },
          "hovermode": "closest",
          "mapbox": {
           "style": "light"
          },
          "paper_bgcolor": "white",
          "plot_bgcolor": "#E5ECF6",
          "polar": {
           "angularaxis": {
            "gridcolor": "white",
            "linecolor": "white",
            "ticks": ""
           },
           "bgcolor": "#E5ECF6",
           "radialaxis": {
            "gridcolor": "white",
            "linecolor": "white",
            "ticks": ""
           }
          },
          "scene": {
           "xaxis": {
            "backgroundcolor": "#E5ECF6",
            "gridcolor": "white",
            "gridwidth": 2,
            "linecolor": "white",
            "showbackground": true,
            "ticks": "",
            "zerolinecolor": "white"
           },
           "yaxis": {
            "backgroundcolor": "#E5ECF6",
            "gridcolor": "white",
            "gridwidth": 2,
            "linecolor": "white",
            "showbackground": true,
            "ticks": "",
            "zerolinecolor": "white"
           },
           "zaxis": {
            "backgroundcolor": "#E5ECF6",
            "gridcolor": "white",
            "gridwidth": 2,
            "linecolor": "white",
            "showbackground": true,
            "ticks": "",
            "zerolinecolor": "white"
           }
          },
          "shapedefaults": {
           "line": {
            "color": "#2a3f5f"
           }
          },
          "ternary": {
           "aaxis": {
            "gridcolor": "white",
            "linecolor": "white",
            "ticks": ""
           },
           "baxis": {
            "gridcolor": "white",
            "linecolor": "white",
            "ticks": ""
           },
           "bgcolor": "#E5ECF6",
           "caxis": {
            "gridcolor": "white",
            "linecolor": "white",
            "ticks": ""
           }
          },
          "title": {
           "x": 0.05
          },
          "xaxis": {
           "automargin": true,
           "gridcolor": "white",
           "linecolor": "white",
           "ticks": "",
           "title": {
            "standoff": 15
           },
           "zerolinecolor": "white",
           "zerolinewidth": 2
          },
          "yaxis": {
           "automargin": true,
           "gridcolor": "white",
           "linecolor": "white",
           "ticks": "",
           "title": {
            "standoff": 15
           },
           "zerolinecolor": "white",
           "zerolinewidth": 2
          }
         }
        }
       }
      }
     },
     "metadata": {},
     "output_type": "display_data"
    }
   ],
   "source": [
    "# PLOTTING STIMATED USE CELL 060\n",
    "\n",
    "if 60 in cell_hours_usage['CELL'].values:\n",
    "\n",
    "    fig1 = go.Figure(go.Indicator(\n",
    "    domain = {'x': [0, 1], 'y': [0, 1]},\n",
    "    value = cell_hours_usage.loc[cell_hours_usage['CELL'] == 60]['STIMATED.USAGE'][0],\n",
    "    mode = \"gauge+number\",\n",
    "    title = {'text': \"CURRENT USAGE - STIMATED - CELL 060\"},\n",
    "   \n",
    "    gauge = { 'axis': {'range': [None, 100]},\n",
    "             'steps' : [\n",
    "                 {'range': [0, 50], 'color': \"lightgray\"},\n",
    "                 {'range': [50, 75], 'color': \"gray\"}],\n",
    "             'threshold' : {'line': {'color': \"red\", 'width': 4}, 'thickness': 0.75, 'value': 95}}))\n",
    "    fig1.show()\n",
    "    \n",
    "else:\n",
    "    fig2 = go.Figure(go.Indicator())\n",
    "    fig2.show()"
   ]
  },
  {
   "cell_type": "code",
   "execution_count": 106,
   "metadata": {},
   "outputs": [
    {
     "data": {
      "application/vnd.plotly.v1+json": {
       "config": {
        "plotlyServerURL": "https://plot.ly"
       },
       "data": [
        {
         "domain": {
          "x": [
           0,
           1
          ],
          "y": [
           0,
           1
          ]
         },
         "gauge": {
          "axis": {
           "range": [
            null,
            100
           ]
          },
          "steps": [
           {
            "color": "lightgray",
            "range": [
             0,
             50
            ]
           },
           {
            "color": "gray",
            "range": [
             50,
             75
            ]
           }
          ],
          "threshold": {
           "line": {
            "color": "red",
            "width": 4
           },
           "thickness": 0.75,
           "value": 95
          }
         },
         "mode": "gauge+number",
         "title": {
          "text": "EFETIVE USAGE - STIMATED - CELL 060"
         },
         "type": "indicator",
         "value": 24.63768115942029
        }
       ],
       "layout": {
        "template": {
         "data": {
          "bar": [
           {
            "error_x": {
             "color": "#2a3f5f"
            },
            "error_y": {
             "color": "#2a3f5f"
            },
            "marker": {
             "line": {
              "color": "#E5ECF6",
              "width": 0.5
             },
             "pattern": {
              "fillmode": "overlay",
              "size": 10,
              "solidity": 0.2
             }
            },
            "type": "bar"
           }
          ],
          "barpolar": [
           {
            "marker": {
             "line": {
              "color": "#E5ECF6",
              "width": 0.5
             },
             "pattern": {
              "fillmode": "overlay",
              "size": 10,
              "solidity": 0.2
             }
            },
            "type": "barpolar"
           }
          ],
          "carpet": [
           {
            "aaxis": {
             "endlinecolor": "#2a3f5f",
             "gridcolor": "white",
             "linecolor": "white",
             "minorgridcolor": "white",
             "startlinecolor": "#2a3f5f"
            },
            "baxis": {
             "endlinecolor": "#2a3f5f",
             "gridcolor": "white",
             "linecolor": "white",
             "minorgridcolor": "white",
             "startlinecolor": "#2a3f5f"
            },
            "type": "carpet"
           }
          ],
          "choropleth": [
           {
            "colorbar": {
             "outlinewidth": 0,
             "ticks": ""
            },
            "type": "choropleth"
           }
          ],
          "contour": [
           {
            "colorbar": {
             "outlinewidth": 0,
             "ticks": ""
            },
            "colorscale": [
             [
              0,
              "#0d0887"
             ],
             [
              0.1111111111111111,
              "#46039f"
             ],
             [
              0.2222222222222222,
              "#7201a8"
             ],
             [
              0.3333333333333333,
              "#9c179e"
             ],
             [
              0.4444444444444444,
              "#bd3786"
             ],
             [
              0.5555555555555556,
              "#d8576b"
             ],
             [
              0.6666666666666666,
              "#ed7953"
             ],
             [
              0.7777777777777778,
              "#fb9f3a"
             ],
             [
              0.8888888888888888,
              "#fdca26"
             ],
             [
              1,
              "#f0f921"
             ]
            ],
            "type": "contour"
           }
          ],
          "contourcarpet": [
           {
            "colorbar": {
             "outlinewidth": 0,
             "ticks": ""
            },
            "type": "contourcarpet"
           }
          ],
          "heatmap": [
           {
            "colorbar": {
             "outlinewidth": 0,
             "ticks": ""
            },
            "colorscale": [
             [
              0,
              "#0d0887"
             ],
             [
              0.1111111111111111,
              "#46039f"
             ],
             [
              0.2222222222222222,
              "#7201a8"
             ],
             [
              0.3333333333333333,
              "#9c179e"
             ],
             [
              0.4444444444444444,
              "#bd3786"
             ],
             [
              0.5555555555555556,
              "#d8576b"
             ],
             [
              0.6666666666666666,
              "#ed7953"
             ],
             [
              0.7777777777777778,
              "#fb9f3a"
             ],
             [
              0.8888888888888888,
              "#fdca26"
             ],
             [
              1,
              "#f0f921"
             ]
            ],
            "type": "heatmap"
           }
          ],
          "heatmapgl": [
           {
            "colorbar": {
             "outlinewidth": 0,
             "ticks": ""
            },
            "colorscale": [
             [
              0,
              "#0d0887"
             ],
             [
              0.1111111111111111,
              "#46039f"
             ],
             [
              0.2222222222222222,
              "#7201a8"
             ],
             [
              0.3333333333333333,
              "#9c179e"
             ],
             [
              0.4444444444444444,
              "#bd3786"
             ],
             [
              0.5555555555555556,
              "#d8576b"
             ],
             [
              0.6666666666666666,
              "#ed7953"
             ],
             [
              0.7777777777777778,
              "#fb9f3a"
             ],
             [
              0.8888888888888888,
              "#fdca26"
             ],
             [
              1,
              "#f0f921"
             ]
            ],
            "type": "heatmapgl"
           }
          ],
          "histogram": [
           {
            "marker": {
             "pattern": {
              "fillmode": "overlay",
              "size": 10,
              "solidity": 0.2
             }
            },
            "type": "histogram"
           }
          ],
          "histogram2d": [
           {
            "colorbar": {
             "outlinewidth": 0,
             "ticks": ""
            },
            "colorscale": [
             [
              0,
              "#0d0887"
             ],
             [
              0.1111111111111111,
              "#46039f"
             ],
             [
              0.2222222222222222,
              "#7201a8"
             ],
             [
              0.3333333333333333,
              "#9c179e"
             ],
             [
              0.4444444444444444,
              "#bd3786"
             ],
             [
              0.5555555555555556,
              "#d8576b"
             ],
             [
              0.6666666666666666,
              "#ed7953"
             ],
             [
              0.7777777777777778,
              "#fb9f3a"
             ],
             [
              0.8888888888888888,
              "#fdca26"
             ],
             [
              1,
              "#f0f921"
             ]
            ],
            "type": "histogram2d"
           }
          ],
          "histogram2dcontour": [
           {
            "colorbar": {
             "outlinewidth": 0,
             "ticks": ""
            },
            "colorscale": [
             [
              0,
              "#0d0887"
             ],
             [
              0.1111111111111111,
              "#46039f"
             ],
             [
              0.2222222222222222,
              "#7201a8"
             ],
             [
              0.3333333333333333,
              "#9c179e"
             ],
             [
              0.4444444444444444,
              "#bd3786"
             ],
             [
              0.5555555555555556,
              "#d8576b"
             ],
             [
              0.6666666666666666,
              "#ed7953"
             ],
             [
              0.7777777777777778,
              "#fb9f3a"
             ],
             [
              0.8888888888888888,
              "#fdca26"
             ],
             [
              1,
              "#f0f921"
             ]
            ],
            "type": "histogram2dcontour"
           }
          ],
          "mesh3d": [
           {
            "colorbar": {
             "outlinewidth": 0,
             "ticks": ""
            },
            "type": "mesh3d"
           }
          ],
          "parcoords": [
           {
            "line": {
             "colorbar": {
              "outlinewidth": 0,
              "ticks": ""
             }
            },
            "type": "parcoords"
           }
          ],
          "pie": [
           {
            "automargin": true,
            "type": "pie"
           }
          ],
          "scatter": [
           {
            "fillpattern": {
             "fillmode": "overlay",
             "size": 10,
             "solidity": 0.2
            },
            "type": "scatter"
           }
          ],
          "scatter3d": [
           {
            "line": {
             "colorbar": {
              "outlinewidth": 0,
              "ticks": ""
             }
            },
            "marker": {
             "colorbar": {
              "outlinewidth": 0,
              "ticks": ""
             }
            },
            "type": "scatter3d"
           }
          ],
          "scattercarpet": [
           {
            "marker": {
             "colorbar": {
              "outlinewidth": 0,
              "ticks": ""
             }
            },
            "type": "scattercarpet"
           }
          ],
          "scattergeo": [
           {
            "marker": {
             "colorbar": {
              "outlinewidth": 0,
              "ticks": ""
             }
            },
            "type": "scattergeo"
           }
          ],
          "scattergl": [
           {
            "marker": {
             "colorbar": {
              "outlinewidth": 0,
              "ticks": ""
             }
            },
            "type": "scattergl"
           }
          ],
          "scattermapbox": [
           {
            "marker": {
             "colorbar": {
              "outlinewidth": 0,
              "ticks": ""
             }
            },
            "type": "scattermapbox"
           }
          ],
          "scatterpolar": [
           {
            "marker": {
             "colorbar": {
              "outlinewidth": 0,
              "ticks": ""
             }
            },
            "type": "scatterpolar"
           }
          ],
          "scatterpolargl": [
           {
            "marker": {
             "colorbar": {
              "outlinewidth": 0,
              "ticks": ""
             }
            },
            "type": "scatterpolargl"
           }
          ],
          "scatterternary": [
           {
            "marker": {
             "colorbar": {
              "outlinewidth": 0,
              "ticks": ""
             }
            },
            "type": "scatterternary"
           }
          ],
          "surface": [
           {
            "colorbar": {
             "outlinewidth": 0,
             "ticks": ""
            },
            "colorscale": [
             [
              0,
              "#0d0887"
             ],
             [
              0.1111111111111111,
              "#46039f"
             ],
             [
              0.2222222222222222,
              "#7201a8"
             ],
             [
              0.3333333333333333,
              "#9c179e"
             ],
             [
              0.4444444444444444,
              "#bd3786"
             ],
             [
              0.5555555555555556,
              "#d8576b"
             ],
             [
              0.6666666666666666,
              "#ed7953"
             ],
             [
              0.7777777777777778,
              "#fb9f3a"
             ],
             [
              0.8888888888888888,
              "#fdca26"
             ],
             [
              1,
              "#f0f921"
             ]
            ],
            "type": "surface"
           }
          ],
          "table": [
           {
            "cells": {
             "fill": {
              "color": "#EBF0F8"
             },
             "line": {
              "color": "white"
             }
            },
            "header": {
             "fill": {
              "color": "#C8D4E3"
             },
             "line": {
              "color": "white"
             }
            },
            "type": "table"
           }
          ]
         },
         "layout": {
          "annotationdefaults": {
           "arrowcolor": "#2a3f5f",
           "arrowhead": 0,
           "arrowwidth": 1
          },
          "autotypenumbers": "strict",
          "coloraxis": {
           "colorbar": {
            "outlinewidth": 0,
            "ticks": ""
           }
          },
          "colorscale": {
           "diverging": [
            [
             0,
             "#8e0152"
            ],
            [
             0.1,
             "#c51b7d"
            ],
            [
             0.2,
             "#de77ae"
            ],
            [
             0.3,
             "#f1b6da"
            ],
            [
             0.4,
             "#fde0ef"
            ],
            [
             0.5,
             "#f7f7f7"
            ],
            [
             0.6,
             "#e6f5d0"
            ],
            [
             0.7,
             "#b8e186"
            ],
            [
             0.8,
             "#7fbc41"
            ],
            [
             0.9,
             "#4d9221"
            ],
            [
             1,
             "#276419"
            ]
           ],
           "sequential": [
            [
             0,
             "#0d0887"
            ],
            [
             0.1111111111111111,
             "#46039f"
            ],
            [
             0.2222222222222222,
             "#7201a8"
            ],
            [
             0.3333333333333333,
             "#9c179e"
            ],
            [
             0.4444444444444444,
             "#bd3786"
            ],
            [
             0.5555555555555556,
             "#d8576b"
            ],
            [
             0.6666666666666666,
             "#ed7953"
            ],
            [
             0.7777777777777778,
             "#fb9f3a"
            ],
            [
             0.8888888888888888,
             "#fdca26"
            ],
            [
             1,
             "#f0f921"
            ]
           ],
           "sequentialminus": [
            [
             0,
             "#0d0887"
            ],
            [
             0.1111111111111111,
             "#46039f"
            ],
            [
             0.2222222222222222,
             "#7201a8"
            ],
            [
             0.3333333333333333,
             "#9c179e"
            ],
            [
             0.4444444444444444,
             "#bd3786"
            ],
            [
             0.5555555555555556,
             "#d8576b"
            ],
            [
             0.6666666666666666,
             "#ed7953"
            ],
            [
             0.7777777777777778,
             "#fb9f3a"
            ],
            [
             0.8888888888888888,
             "#fdca26"
            ],
            [
             1,
             "#f0f921"
            ]
           ]
          },
          "colorway": [
           "#636efa",
           "#EF553B",
           "#00cc96",
           "#ab63fa",
           "#FFA15A",
           "#19d3f3",
           "#FF6692",
           "#B6E880",
           "#FF97FF",
           "#FECB52"
          ],
          "font": {
           "color": "#2a3f5f"
          },
          "geo": {
           "bgcolor": "white",
           "lakecolor": "white",
           "landcolor": "#E5ECF6",
           "showlakes": true,
           "showland": true,
           "subunitcolor": "white"
          },
          "hoverlabel": {
           "align": "left"
          },
          "hovermode": "closest",
          "mapbox": {
           "style": "light"
          },
          "paper_bgcolor": "white",
          "plot_bgcolor": "#E5ECF6",
          "polar": {
           "angularaxis": {
            "gridcolor": "white",
            "linecolor": "white",
            "ticks": ""
           },
           "bgcolor": "#E5ECF6",
           "radialaxis": {
            "gridcolor": "white",
            "linecolor": "white",
            "ticks": ""
           }
          },
          "scene": {
           "xaxis": {
            "backgroundcolor": "#E5ECF6",
            "gridcolor": "white",
            "gridwidth": 2,
            "linecolor": "white",
            "showbackground": true,
            "ticks": "",
            "zerolinecolor": "white"
           },
           "yaxis": {
            "backgroundcolor": "#E5ECF6",
            "gridcolor": "white",
            "gridwidth": 2,
            "linecolor": "white",
            "showbackground": true,
            "ticks": "",
            "zerolinecolor": "white"
           },
           "zaxis": {
            "backgroundcolor": "#E5ECF6",
            "gridcolor": "white",
            "gridwidth": 2,
            "linecolor": "white",
            "showbackground": true,
            "ticks": "",
            "zerolinecolor": "white"
           }
          },
          "shapedefaults": {
           "line": {
            "color": "#2a3f5f"
           }
          },
          "ternary": {
           "aaxis": {
            "gridcolor": "white",
            "linecolor": "white",
            "ticks": ""
           },
           "baxis": {
            "gridcolor": "white",
            "linecolor": "white",
            "ticks": ""
           },
           "bgcolor": "#E5ECF6",
           "caxis": {
            "gridcolor": "white",
            "linecolor": "white",
            "ticks": ""
           }
          },
          "title": {
           "x": 0.05
          },
          "xaxis": {
           "automargin": true,
           "gridcolor": "white",
           "linecolor": "white",
           "ticks": "",
           "title": {
            "standoff": 15
           },
           "zerolinecolor": "white",
           "zerolinewidth": 2
          },
          "yaxis": {
           "automargin": true,
           "gridcolor": "white",
           "linecolor": "white",
           "ticks": "",
           "title": {
            "standoff": 15
           },
           "zerolinecolor": "white",
           "zerolinewidth": 2
          }
         }
        }
       }
      }
     },
     "metadata": {},
     "output_type": "display_data"
    }
   ],
   "source": [
    "# EFETIVE USAGE CELL 60\n",
    "\n",
    "if 60 in cell_hours_usage['CELL'].values:\n",
    "\n",
    "    fig3 = go.Figure(go.Indicator(\n",
    "    domain = {'x': [0, 1], 'y': [0, 1]},\n",
    "    value = cell_hours_usage.loc[cell_hours_usage['CELL'] == 60]['EFFETIVE.USAGE'][0],\n",
    "    mode = \"gauge+number\",\n",
    "    title = {'text': \"EFETIVE USAGE - STIMATED - CELL 060\"},\n",
    "   \n",
    "    gauge = { 'axis': {'range': [None, 100]},\n",
    "             'steps' : [\n",
    "                 {'range': [0, 50], 'color': \"lightgray\"},\n",
    "                 {'range': [50, 75], 'color': \"gray\"}],\n",
    "             'threshold' : {'line': {'color': \"red\", 'width': 4}, 'thickness': 0.75, 'value': 95}}))\n",
    "    fig3.show()\n",
    "    \n",
    "else:\n",
    "    fig4 = go.Figure(go.Indicator())\n",
    "    fig4.show()"
   ]
  },
  {
   "cell_type": "code",
   "execution_count": 107,
   "metadata": {},
   "outputs": [],
   "source": [
    "#NAV BAR DASHBOARD\n",
    "\n",
    "NVent_LOGO = \"https://www.nvent.com/themes/custom/particle/dist/app-drupal/assets/images/logo-nvent.svg\" # Address to NVent logo\n",
    "\n",
    "row_content = dbc.Row(\n",
    "                     [  \n",
    "                        dbc.Col(\" \", width=\"10\"),\n",
    "                        dbc.Col(html.Img(src=NVent_LOGO, height=\"40px\")),\n",
    "                        dbc.Col(dbc.NavbarBrand(\"TEXA LAB DASHBOARD\") ),\n",
    "                     ],\n",
    "                     )\n",
    "\n",
    "navbar = dbc.Navbar(\n",
    "\n",
    "                     html.A( \n",
    "                            row_content, href=\"https://www.nvent.com/en-us/\"                   \n",
    "                           ),\n",
    "                               color=\"dark\",\n",
    "                               dark=True,\n",
    "                    )"
   ]
  },
  {
   "cell_type": "code",
   "execution_count": 108,
   "metadata": {},
   "outputs": [],
   "source": [
    "# DEFINES THE DYNAMIC TABLE FOR FILTERING THE LAB DATA\n",
    "status_table = total_data[['CELL', 'TEST.ID', \"P_N\", \"DUE.DATE\", \"TEST.DESCRIPTION\", \"TEST.STATUS\"]]\n",
    "#status_table['DUE.DATE'] = status_table['DUE.DATE'].dt.strftime('%m/%d/%Y')\n",
    "\n",
    "dynamic_table =  html.Div( \n",
    "                            dash_table.DataTable(\n",
    "                                                    columns=[{\"name\": i, \"id\": i} for i in status_table.columns],\n",
    "                                                    page_size=10,\n",
    "                                                    fixed_rows={'headers': True},\n",
    "                                                    style_table={'height': '200px', 'overflowY': 'auto'},\n",
    "                                                    id= \"total_data2\",\n",
    "                                                    data=status_table.to_dict(\"records\")                     \n",
    "                                    )\n",
    "                )\n",
    "#display(status_table)"
   ]
  },
  {
   "cell_type": "code",
   "execution_count": 109,
   "metadata": {},
   "outputs": [],
   "source": [
    "# MENU CELL\n",
    "\n",
    "cell_option = dbc.Card(\n",
    "                        [dbc.CardHeader(\"TEST CELL\"),\n",
    "                        dbc.CardBody(\n",
    "                                    dcc.Checklist(\n",
    "                                                options=[\n",
    "                                                        {\"label\": \"040\", \"value\": 40},\n",
    "                                                        {\"label\": \"060\", \"value\": 60},\n",
    "                                                        {\"label\": \"110\", \"value\": 110},\n",
    "                                                        {\"label\": \"Chiller\", \"value\": \"Chiller\", \"disabled\": True},\n",
    "                                                        {\"label\": \"Clima\", \"value\": \"Clima\", \"disabled\": True}\n",
    "                                                        ],\n",
    "                                                        value=[110],\n",
    "                                                        id = \"selected_cell\" )\n",
    "                        )],\n",
    "                        style={\n",
    "                                'width': 120,\n",
    "                                'height': 200,\n",
    "                                'margin-left': 5,\n",
    "                                'margin-right': 5,\n",
    "                                'margin-top': 5,\n",
    "                                'margin-bottom': 5\n",
    "                                }                 \n",
    ")\n",
    "                     "
   ]
  },
  {
   "cell_type": "code",
   "execution_count": 115,
   "metadata": {},
   "outputs": [],
   "source": [
    "status_option = dbc.Card(\n",
    "                        [dbc.CardHeader(\"TEST CELL\"),\n",
    "                        dbc.CardBody(\n",
    "                                    dcc.Checklist(\n",
    "                                                options=[\n",
    "                                                        {\"label\": \"COMPLETED\", \"value\": \"COMPLETED\", },\n",
    "                                                        {\"label\": \"ON GOING\", \"value\": \"ON GOING\"},\n",
    "                                                        {\"label\": \"HOLDING\", \"value\": \"HOLDING\"},\n",
    "                                                        ],\n",
    "                                                        value=[\"ON GOING\"],\n",
    "                                                        id = \"status_cell\"    \n",
    "                                                                            )\n",
    "                        )],\n",
    "                        style={\n",
    "                                'width': 180,\n",
    "                                'height': 200,\n",
    "                                'margin-left': 5,\n",
    "                                'margin-right': 5,\n",
    "                                'margin-top': 5,\n",
    "                                'margin-bottom': 5\n",
    "                                }                 \n",
    ")"
   ]
  },
  {
   "cell_type": "code",
   "execution_count": null,
   "metadata": {},
   "outputs": [],
   "source": [
    ", \n",
    "                                     html.Div(status_table, \n",
    "                                              style={\n",
    "                                                    'width': 1000,\n",
    "                                                    'height': 300,\n",
    "                                                    'margin-left': 15,\n",
    "                                                    'margin-top': 15,\n",
    "                                                    'margin-bottom': 15\n",
    "                                                    }\n",
    "                                              )"
   ]
  },
  {
   "cell_type": "code",
   "execution_count": 119,
   "metadata": {},
   "outputs": [
    {
     "data": {
      "text/html": [
       "\n",
       "        <iframe\n",
       "            width=\"100%\"\n",
       "            height=\"650\"\n",
       "            src=\"http://127.0.0.1:8050/\"\n",
       "            frameborder=\"0\"\n",
       "            allowfullscreen\n",
       "            \n",
       "        ></iframe>\n",
       "        "
      ],
      "text/plain": [
       "<IPython.lib.display.IFrame at 0x20c8babd3a0>"
      ]
     },
     "metadata": {},
     "output_type": "display_data"
    }
   ],
   "source": [
    "\n",
    "\n",
    "app = Dash(__name__, external_stylesheets=[dbc.themes.FLATLY])\n",
    "\n",
    "\n",
    "app.layout = [ navbar, dbc.Container(         \n",
    "                                    [html.Div(\n",
    "                                                [\n",
    "                                                    html.Div(\n",
    "                                                                                style={\n",
    "                                                                                        'width': 120,\n",
    "                                                                                        'height': 100,\n",
    "                                                                                        'margin-left': 5,\n",
    "                                                                                        'margin-right': 5,\n",
    "                                                                                        'margin-top': 5,\n",
    "                                                                                        'margin-bottom': 5\n",
    "                                                                                      }     \n",
    "                                                            ),\n",
    "                                                    html.Div(\n",
    "                                                            dcc.Checklist(\n",
    "                                                                                options=[\n",
    "                                                                                        {\"label\": \"040\", \"value\": 40},\n",
    "                                                                                        {\"label\": \"060\", \"value\": 60},\n",
    "                                                                                        {\"label\": \"110\", \"value\": 110},\n",
    "                                                                                        {\"label\": \"Chiller\", \"value\": \"Chiller\", \"disabled\": True},\n",
    "                                                                                        {\"label\": \"Clima\", \"value\": \"Clima\", \"disabled\": True}\n",
    "                                                                                        ],\n",
    "                                                                                         value=[110],\n",
    "                                                                                         id = \"selected_cell\" \n",
    "                                                                            )\n",
    "                                                            ),         \n",
    "                                                    html.Div(\n",
    "                                                            dcc.Checklist(\n",
    "                                                                                options=[\n",
    "                                                                                        {\"label\": \"COMPLETED\", \"value\": \"COMPLETED\", },\n",
    "                                                                                        {\"label\": \"ON GOING\", \"value\": \"ON GOING\"},\n",
    "                                                                                        {\"label\": \"HOLDING\", \"value\": \"HOLDING\"},\n",
    "                                                                                        ],\n",
    "                                                                                         value=[\"ON GOING\"],\n",
    "                                                                                         id = \"status_cell\"    \n",
    "                                                                            )\n",
    "                                                            )\n",
    "                                                ]\n",
    "                                            ), \n",
    "                                                    html.Div(dynamic_table, style={\n",
    "                                                                                    'width': 1000,\n",
    "                                                                                    'height': 300,\n",
    "                                                                                    'margin-left': 15,\n",
    "                                                                                    'margin-top': 15,\n",
    "                                                                                    'margin-bottom': 15\n",
    "                                                                                    }\n",
    "                                              ), \n",
    "                                                html.Div(\n",
    "                                                    dcc.DatePickerRange(\n",
    "                                                    id=\"date_filter\",\n",
    "                                                    start_date=total_data[\"DUE.DATE\"].min(),\n",
    "                                                    end_date=total_data[\"DUE.DATE\"].max(),\n",
    "                                                                        )\n",
    "                                                )]\n",
    "                                    ,\n",
    "\n",
    "                                        fluid=True,\n",
    "                                        style={'display': 'flex'},\n",
    "                                        className='dashboard-container')    ]    \n",
    "\n",
    "@app.callback(\n",
    "    Output(\"dynamic_table\", 'data'),\n",
    "    Input('selected_cell', 'value'),\n",
    "    Input('status_cell', 'value'),\n",
    "    Input(\"date_filter\", \"start_date\"),\n",
    "    Input(\"date_filter\", \"end_date\")\n",
    " )\n",
    "            \n",
    "\n",
    "def update_table(selected_cell, status_cell, start_date, end_date):\n",
    "\n",
    "    filtered_df= status_table[ \n",
    "                                status_table[\"DUE.DATE\"].between(pd.to_datetime(start_date), pd.to_datetime(end_date)) &\n",
    "                                status_table['CELL'].isin(selected_cell)  &\n",
    "                                status_table['TEST.STATUS'].isin(status_cell)\n",
    "                             ] \n",
    "\n",
    "    return filtered_df.to_dict(\"records\")\n",
    "\n",
    "\n",
    "if __name__ == '__main__':\n",
    "    app.run(debug=True)\n",
    "    \n",
    "\n",
    "\n",
    "\n",
    "\n",
    "#http://127.0.0.1:8050/"
   ]
  },
  {
   "cell_type": "code",
   "execution_count": null,
   "metadata": {},
   "outputs": [],
   "source": []
  }
 ],
 "metadata": {
  "kernelspec": {
   "display_name": "Python 3",
   "language": "python",
   "name": "python3"
  },
  "language_info": {
   "codemirror_mode": {
    "name": "ipython",
    "version": 3
   },
   "file_extension": ".py",
   "mimetype": "text/x-python",
   "name": "python",
   "nbconvert_exporter": "python",
   "pygments_lexer": "ipython3",
   "version": "3.12.6"
  }
 },
 "nbformat": 4,
 "nbformat_minor": 2
}
