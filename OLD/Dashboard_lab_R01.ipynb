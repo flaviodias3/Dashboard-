{
 "cells": [
  {
   "cell_type": "code",
   "execution_count": 1,
   "metadata": {},
   "outputs": [],
   "source": [
    "#Packages used\n",
    "\n",
    "#pip install --trusted-host pypi.org --trusted-host files.pythonhosted.org pandas as pd -vvv\n",
    "#pip install openpyxl\n",
    "#python -m  py install dash\n",
    "#pip install dash-bootstrap-components\n",
    "#pip install numpy"
   ]
  },
  {
   "cell_type": "code",
   "execution_count": 1,
   "metadata": {},
   "outputs": [],
   "source": [
    "import pandas as pd\n",
    "import numpy as np\n",
    "from dash import Dash, html, dcc, Input, Output, callback, dash_table, State\n",
    "from datetime import datetime as dt\n",
    "from datetime import timedelta\n",
    "import dash_bootstrap_components as dbc\n",
    "import plotly.graph_objects as go\n",
    "import random\n",
    "import plotly.express as px\n",
    "from plotly.subplots import make_subplots\n",
    "\n",
    "\n"
   ]
  },
  {
   "cell_type": "code",
   "execution_count": 2,
   "metadata": {},
   "outputs": [
    {
     "name": "stderr",
     "output_type": "stream",
     "text": [
      "c:\\Users\\e2023898\\AppData\\Local\\Programs\\Python\\Python312\\Lib\\site-packages\\openpyxl\\worksheet\\_reader.py:329: UserWarning: Data Validation extension is not supported and will be removed\n",
      "  warn(msg)\n",
      "c:\\Users\\e2023898\\AppData\\Local\\Programs\\Python\\Python312\\Lib\\site-packages\\openpyxl\\worksheet\\_reader.py:329: UserWarning: Data Validation extension is not supported and will be removed\n",
      "  warn(msg)\n"
     ]
    }
   ],
   "source": [
    "test_data_new = pd.read_excel('Plan.xlsx', header = 0, sheet_name = 'TEST') # Import data from new database\n",
    "test_data_new.dropna(how='all')\n",
    "test_data_new.dropna(axis=1, how='all', inplace=True)\n",
    "\n",
    "test_data_old= pd.read_excel('Plan.xlsx', header = 0, sheet_name = 'OLD') # Import data from old database\n",
    "test_data_old.dropna(how='all')\n",
    "\n",
    "test_data_old.dropna(axis=1, how='all', inplace=True)  \n",
    "\n",
    "total_data = pd.concat([test_data_old, test_data_new], ignore_index=True) # Concatenate databases\n",
    "\n",
    "#total_data.head(5)"
   ]
  },
  {
   "cell_type": "code",
   "execution_count": 4,
   "metadata": {},
   "outputs": [],
   "source": [
    "# CALENDAR FROM CELLS AND OPERATORS\n",
    "\n",
    "cells_calendar = pd.read_excel('Plan.xlsx', header = 0, sheet_name = 'CELLS') # Import data from new database\n",
    "#cells_calendar.head()\n",
    "\n",
    "operators_calendar = pd.read_excel('Plan.xlsx', header = 0, sheet_name = 'OPERATORS') # Import data from new database\n",
    "#operators_calendar.head()\n",
    "\n",
    "#display(cells_calendar)"
   ]
  },
  {
   "cell_type": "code",
   "execution_count": 5,
   "metadata": {},
   "outputs": [],
   "source": [
    "#DECLARE FLUID PARAMETERS\n",
    "\n",
    "cp_water = 4186 # J.(KG.°C)^(-1)\n",
    "specific_mass_water = 1000 #kg/m3\n",
    "\n",
    "cp_oil = 1880 # J.(KG.°C)^(-1)\n",
    "specific_mass_oil = 900 #kg/m3\n",
    "\n",
    "cp_glycol = 2533 # J.(KG.°C)^(-1)\n",
    "specific_mass_glycol = 1040 #kg/m3\n"
   ]
  },
  {
   "cell_type": "code",
   "execution_count": 6,
   "metadata": {},
   "outputs": [],
   "source": [
    "#CALCULATE CP, RO PARAMETERS\n",
    "\n",
    "total_data['PERC.M']= pd.to_numeric(total_data['PERC.M'], errors='coerce')\n",
    "convertion_flow = 0.06 # convert flow from l/min to m3/s\n",
    "\n",
    "total_data['CP']= 0 # Declare specific heat J.(KG.°C)^(-1)\n",
    "total_data['RO']= 0 # Declare specific heat J.(KG.°C)^(-1)\n",
    "\n",
    "total_data[\"RO\"] = np.where(total_data[\"FLUIDO.CHILLER\"] == 'W', specific_mass_water, \n",
    "                            (np.where(total_data[\"FLUIDO.CHILLER\"] == 'O', specific_mass_oil, \n",
    "                                      (np.where(total_data[\"FLUIDO.CHILLER\"] == 'E', (((100-total_data[\"PERC.M\"])*specific_mass_water) + (total_data[\"PERC.M\"]*specific_mass_oil))/100,\n",
    "                                                (np.where(total_data[\"FLUIDO.CHILLER\"] == 'G', (((100-total_data[\"PERC.M\"])*specific_mass_water) + (total_data[\"PERC.M\"]*specific_mass_glycol))/100, 0          \n",
    "                                      )))))))\n",
    "\n",
    "total_data[\"CP\"] = np.where(total_data[\"FLUIDO.CHILLER\"] == 'W', cp_water, \n",
    "                            (np.where(total_data[\"FLUIDO.CHILLER\"] == 'O', cp_oil, \n",
    "                                      (np.where(total_data[\"FLUIDO.CHILLER\"] == 'E', (((100-total_data[\"PERC.M\"])*cp_water) + (total_data[\"PERC.M\"]*cp_oil))/100,\n",
    "                                                (np.where(total_data[\"FLUIDO.CHILLER\"] == 'G', (((100-total_data[\"PERC.M\"])*cp_water) + (total_data[\"PERC.M\"]*cp_glycol))/100, 0          \n",
    "                                      )))))))  \n",
    "\n",
    "#total_data[['FLUIDO.CHILLER','WORK.FLUID','CP','RO', 'PERC.M']].head()\n"
   ]
  },
  {
   "cell_type": "code",
   "execution_count": 7,
   "metadata": {},
   "outputs": [],
   "source": [
    "# POWER CALCULATION\n",
    "\n",
    "convertion_flow = 0.00001666 # convert flow from l/min to m3/s\n",
    "\n",
    "total_data['DELTA'] = (total_data['T.OUT.F.M_C']-total_data['T.IN.F.M_C']).abs() # [°C]\n",
    "\n",
    "total_data['CALCULATE.POWER'] = total_data['FLUID.FLOW.L_MIN']*convertion_flow * total_data['CP'] * total_data['DELTA'] # [kW]\n",
    "\n",
    "#total_data[['P_N','FLUID.FLOW.L_MIN', 'CP', 'DELTA', 'CALCULATE.POWER']].head()"
   ]
  },
  {
   "cell_type": "code",
   "execution_count": 8,
   "metadata": {},
   "outputs": [],
   "source": [
    "# SETTIME PARAMETERS AS DATETIME\n",
    "\n",
    "total_data['STIMATION'] =  pd.to_timedelta(total_data['STIMATION'], unit='h')\n",
    "total_data['DURATION'] =  pd.to_timedelta(total_data['DURATION'], unit='h')\n",
    "\n",
    "#total_data[['AVAILABILITY', 'DUE.DATE', 'STIMATION', 'START.DATE', 'END.DATE', 'DURATION']].dtypes"
   ]
  },
  {
   "cell_type": "code",
   "execution_count": 9,
   "metadata": {},
   "outputs": [
    {
     "data": {
      "text/html": [
       "<div>\n",
       "<style scoped>\n",
       "    .dataframe tbody tr th:only-of-type {\n",
       "        vertical-align: middle;\n",
       "    }\n",
       "\n",
       "    .dataframe tbody tr th {\n",
       "        vertical-align: top;\n",
       "    }\n",
       "\n",
       "    .dataframe thead th {\n",
       "        text-align: right;\n",
       "    }\n",
       "</style>\n",
       "<table border=\"1\" class=\"dataframe\">\n",
       "  <thead>\n",
       "    <tr style=\"text-align: right;\">\n",
       "      <th></th>\n",
       "      <th>CELL</th>\n",
       "      <th>STIMATION</th>\n",
       "      <th>DURATION</th>\n",
       "      <th>CELL.AVAILABILITY</th>\n",
       "      <th>STIMATED.USAGE</th>\n",
       "      <th>EFFETIVE.USAGE</th>\n",
       "    </tr>\n",
       "  </thead>\n",
       "  <tbody>\n",
       "    <tr>\n",
       "      <th>0</th>\n",
       "      <td>40</td>\n",
       "      <td>0 days 08:00:00</td>\n",
       "      <td>0 days 00:00:00</td>\n",
       "      <td>27 days 12:00:00</td>\n",
       "      <td>1.212121</td>\n",
       "      <td>0.000000</td>\n",
       "    </tr>\n",
       "    <tr>\n",
       "      <th>1</th>\n",
       "      <td>60</td>\n",
       "      <td>1 days 00:00:00</td>\n",
       "      <td>2 days 07:00:00</td>\n",
       "      <td>16 days 12:00:00</td>\n",
       "      <td>6.060606</td>\n",
       "      <td>13.888889</td>\n",
       "    </tr>\n",
       "    <tr>\n",
       "      <th>2</th>\n",
       "      <td>110</td>\n",
       "      <td>11 days 16:00:00</td>\n",
       "      <td>4 days 15:48:00</td>\n",
       "      <td>22 days 00:00:00</td>\n",
       "      <td>53.030303</td>\n",
       "      <td>21.174242</td>\n",
       "    </tr>\n",
       "  </tbody>\n",
       "</table>\n",
       "</div>"
      ],
      "text/plain": [
       "   CELL        STIMATION        DURATION CELL.AVAILABILITY  STIMATED.USAGE  \\\n",
       "0    40  0 days 08:00:00 0 days 00:00:00  27 days 12:00:00        1.212121   \n",
       "1    60  1 days 00:00:00 2 days 07:00:00  16 days 12:00:00        6.060606   \n",
       "2   110 11 days 16:00:00 4 days 15:48:00  22 days 00:00:00       53.030303   \n",
       "\n",
       "   EFFETIVE.USAGE  \n",
       "0        0.000000  \n",
       "1       13.888889  \n",
       "2       21.174242  "
      ]
     },
     "metadata": {},
     "output_type": "display_data"
    }
   ],
   "source": [
    "# TIME CALCULATION\n",
    "\n",
    "#SET INTEREST INTERVAL\n",
    "\n",
    "start_date = dt(2024, 9, 10) # (Y/M/D/H/min...)\n",
    "end_date = dt(2024, 12, 10) # (Y/M/D/H/min...)\n",
    "\n",
    "#____________________________________________________________________________________________________________________________________\n",
    "#EXTRACT BUSSINESS DAYS BETWEEN THE DATES\n",
    "\n",
    "work_days = pd.bdate_range(start_date, end_date) #Defines number of bussiness days between stard date and end date\n",
    "#print(len(work_days))\n",
    "\n",
    "#_____________________________________________________________________________________________________________________________________\n",
    "#FILTER DATAFRAME BY DATE\n",
    "mask = (total_data['AVAILABILITY']  >= start_date)  & (total_data['DUE.DATE'] <= end_date)\n",
    "\n",
    "total_data_filtered_by_date = total_data.loc[mask] # all Data filtered by set date\n",
    "\n",
    "cell_usage_table = total_data_filtered_by_date[['CELL', 'STIMATION', 'DURATION']] #Time table\n",
    "\n",
    "#_____________________________________________________________________________________________________________________________________\n",
    "#CALCULATE TOTAL TIME FOR EACH CELL\n",
    "\n",
    "cell_hours_usage = cell_usage_table.groupby(['CELL']).sum().reset_index() #Total time grouped by cell\n",
    "\n",
    "#display(cell_hours_usage)\n",
    "\n",
    "#_____________________________________________________________________________________________________________________________________\n",
    "#CELL PREDICTED AND EFFETIVE USAGE\n",
    "\n",
    "cell_40_daily = timedelta(hours = 10) # Max usage of the cell\n",
    "cell_60_daily = timedelta(hours=6) # Max usage of the cell\n",
    "cell_110_daily = timedelta(hours=8) # Max usage of the cell\n",
    "\n",
    "cell_40_availability = len(work_days)*cell_40_daily #availability in the set period\n",
    "cell_60_availability = len(work_days)*cell_60_daily #availability in the set period\n",
    "cell_110_availability = len(work_days)*cell_110_daily #availability in the set period\n",
    "\n",
    "cell_hours_usage['CELL.AVAILABILITY'] = np.where(cell_hours_usage['CELL'] == 40, cell_40_availability,\n",
    "                                                 (np.where(cell_hours_usage['CELL'] == 60, cell_60_availability,\n",
    "                                                           np.where(cell_hours_usage['CELL'] == 110, cell_110_availability,0)   \n",
    "                                                 )))\n",
    "\n",
    "cell_hours_usage['STIMATED.USAGE'] = cell_hours_usage['STIMATION']*100/cell_hours_usage['CELL.AVAILABILITY']\n",
    "cell_hours_usage['EFFETIVE.USAGE'] = cell_hours_usage['DURATION']*100/cell_hours_usage['CELL.AVAILABILITY']\n",
    "                               \n",
    "display(cell_hours_usage)"
   ]
  },
  {
   "cell_type": "code",
   "execution_count": 10,
   "metadata": {},
   "outputs": [],
   "source": [
    "#NAV BAR DASHBOARD\n",
    "\n",
    "NVent_LOGO = \"https://www.nvent.com/themes/custom/particle/dist/app-drupal/assets/images/logo-nvent.svg\" # Address to NVent logo\n",
    "\n",
    "row_content = dbc.Row(\n",
    "                     [  \n",
    "                        dbc.Col(\" \", width=\"10\"),\n",
    "                        dbc.Col(html.Img(src=NVent_LOGO, height=\"40px\")),\n",
    "                        dbc.Col(dbc.NavbarBrand(\"TEXA LAB DASHBOARD\") ),\n",
    "                     ],\n",
    "                     )\n",
    "\n",
    "navbar = dbc.Navbar(\n",
    "\n",
    "                     html.A( \n",
    "                            row_content, href=\"https://www.nvent.com/en-us/\"                   \n",
    "                           ),\n",
    "                               color=\"dark\",\n",
    "                               dark=True,\n",
    "                    )"
   ]
  },
  {
   "cell_type": "code",
   "execution_count": 11,
   "metadata": {},
   "outputs": [],
   "source": [
    "#DATE SELECTOR \n",
    "\n",
    "date_card = dbc.Card(\n",
    "                        dbc.CardBody(\n",
    "                                [html.H4(\"Test date range :\", className=\"card-title\"),\n",
    "                                dcc.DatePickerRange(\n",
    "                                            id=\"date_filter\",\n",
    "                                            start_date=total_data[\"DUE.DATE\"].min(),\n",
    "                                            end_date=total_data[\"DUE.DATE\"].max(),                           \n",
    "                                            )]\n",
    "                        \n",
    "                                )\n",
    "                        )\n",
    " \n"
   ]
  },
  {
   "cell_type": "code",
   "execution_count": 12,
   "metadata": {},
   "outputs": [],
   "source": [
    "#CELL SELECTOR MENU\n",
    "\n",
    "cell_card = dbc.Card(\n",
    "                dbc.CardBody(\n",
    "                        [\n",
    "                        html.H4(\"Cell:\", className=\"card-title\"),\n",
    "                        dcc.Checklist(\n",
    "                                \n",
    "                                    options=[\n",
    "                                        {\"label\": \"040\", \"value\": 40},\n",
    "                                        {\"label\": \"060\", \"value\": 60},\n",
    "                                        {\"label\": \"110\", \"value\": 110},\n",
    "                                        {\"label\": \"Chiller\", \"value\": \"Chiller\", \"disabled\": True},\n",
    "                                        {\"label\": \"Clima\", \"value\": \"Clima\", \"disabled\": True}\n",
    "                                            ],\n",
    "                                    value=[110],\n",
    "                                    id = \"selected_cell\" \n",
    "                                    )\n",
    "                        ]\n",
    "                        \n",
    "                            )\n",
    "                    )"
   ]
  },
  {
   "cell_type": "code",
   "execution_count": 13,
   "metadata": {},
   "outputs": [],
   "source": [
    "#STATUS CELL SELECTOR\n",
    "\n",
    "status_card = dbc.Card(\n",
    "                dbc.CardBody(\n",
    "                        [\n",
    "                        html.H4(\"Project status:\", className=\"card-title\"),\n",
    "                        dcc.Checklist(      \n",
    "                                    options=[\n",
    "                                        {\"label\": \"COMPLETED\", \"value\": \"COMPLETED\", },\n",
    "                                        {\"label\": \"ON GOING\", \"value\": \"ON GOING\"},\n",
    "                                        {\"label\": \"HOLDING\", \"value\": \"HOLDING\"},\n",
    "                                            ],\n",
    "                                    value=[\"ON GOING\"],\n",
    "                                    id = \"status_cell\")\n",
    "                        ]\n",
    "                        \n",
    "                            )\n",
    "                    )"
   ]
  },
  {
   "cell_type": "code",
   "execution_count": 14,
   "metadata": {},
   "outputs": [],
   "source": [
    "# DEFINES THE DYNAMIC TABLE FOR FILTERING THE LAB DATA\n",
    "status_table = total_data[['CELL', 'TEST.ID', \"P_N\", \"DUE.DATE\", \"TEST.DESCRIPTION\", \"TEST.STATUS\", 'STIMATION', 'DURATION']]\n",
    "#status_table['DUE.DATE'] = status_table['DUE.DATE'].dt.strftime('%m/%d/%Y')\n",
    "\n",
    "dynamic_table = dash_table.DataTable(\n",
    "                                    columns=[{\"name\": i, \"id\": i} for i in status_table.columns],\n",
    "                                    page_size=10,\n",
    "                                    fixed_rows={'headers': True},\n",
    "                                    style_table={'height': '200px', 'overflowY': 'auto'},\n",
    "                                    id= \"total_data2\",\n",
    "                                    data=status_table.to_dict(\"records\")                     \n",
    "                                    )\n",
    "                \n",
    "\n",
    "table_card = dbc.Card(\n",
    "        dbc.CardBody(\n",
    "                dynamic_table      \n",
    "                    )\n",
    ")\n",
    "#display(status_table)"
   ]
  },
  {
   "cell_type": "code",
   "execution_count": 28,
   "metadata": {},
   "outputs": [],
   "source": [
    "#COUNT CELLS AVAILABILITY\n",
    "\n",
    "total_stimation = total_data[['CELL', 'STIMATION', 'DURATION']]\n",
    "date_df = total_data['DUE.DATE']\n",
    "\n",
    "total_stimation_cell = total_stimation.groupby(['CELL']).sum().reset_index()\n",
    "total_stimation_cell['STIMATION'] = total_stimation_cell['STIMATION'] / np.timedelta64(1, 'h')\n",
    "total_stimation_cell['DURATION'] = total_stimation_cell['DURATION'] / np.timedelta64(1, 'h')\n",
    "\n",
    "dynamic_table2 = dash_table.DataTable(\n",
    "                                    columns=[{\"name\": i, \"id\": i} for i in total_stimation_cell.columns],\n",
    "                                    page_size=10,\n",
    "                                    fixed_rows={'headers': True},\n",
    "                                    style_table={'height': '200px', 'overflowY': 'auto'},\n",
    "                                    id= \"time_data\",\n",
    "                                    data=total_stimation_cell.to_dict(\"records\")                     \n",
    "                                    )\n",
    "                \n",
    "\n",
    "table_card2 = dbc.Card(\n",
    "        dbc.CardBody(\n",
    "                dynamic_table2      \n",
    "                    )\n",
    ")\n",
    "\n",
    "#display(total_stimation_cell)"
   ]
  },
  {
   "cell_type": "code",
   "execution_count": 16,
   "metadata": {},
   "outputs": [],
   "source": [
    "#CELL AVAILABILITY TABLE\n",
    "\n",
    "cells_availability = cells_calendar.drop(['WEEKDAY'], axis = 1)\n",
    "cells_availability = cells_availability.drop(['DATE'], axis = 1)\n",
    "cells_availability_40 = cells_availability['40'].sum()\n",
    "cells_availability_60 = cells_availability['60'].sum()\n",
    "cells_availability_110 = cells_availability['110'].sum()\n",
    "cells_availability_resume = pd.DataFrame({'CELL': ['40', '60', '110'],\n",
    "        'AVAILABILITY': [cells_availability_40, cells_availability_60, cells_availability_110]})\n",
    "\n",
    "dynamic_table3 = dash_table.DataTable(\n",
    "                                    columns=[{\"name\": i, \"id\": i} for i in cells_availability_resume.columns],\n",
    "                                    #page_size=10,\n",
    "                                    fixed_rows={'headers': True},\n",
    "                                    style_table={'height': '200px', 'overflowY': 'auto'},\n",
    "                                    id= \"time_data_cells\",\n",
    "                                    data=cells_availability_resume.to_dict(\"records\")                     \n",
    "                                    )\n",
    "                \n",
    "\n",
    "table_card3 = dbc.Card(\n",
    "        dbc.CardBody(\n",
    "                dynamic_table3      \n",
    "                    )\n",
    ")\n",
    "\n",
    "#display(cells_availability_resume)\n"
   ]
  },
  {
   "cell_type": "code",
   "execution_count": 24,
   "metadata": {},
   "outputs": [],
   "source": [
    "#OPERATOR AVAILABILITY TABLE\n",
    "\n",
    "operators_availability = operators_calendar.drop(['WEEKDAY'], axis = 1)\n",
    "operators_availability = operators_availability.drop(['DATE'], axis = 1)\n",
    "operators_availability_40 = operators_availability[40].sum()\n",
    "operators_availability_60 = operators_availability[60].sum()\n",
    "operators_availability_110 = operators_availability[110].sum()\n",
    "operators_availability_resume = pd.DataFrame({'OPERATOR': ['GUERZONI', 'CARLINI', 'RESTANI'],\n",
    "        'AVAILABILITY': [operators_availability_40, operators_availability_60, operators_availability_110]})\n",
    "\n",
    "dynamic_table4 = dash_table.DataTable(\n",
    "                                    columns=[{\"name\": i, \"id\": i} for i in operators_availability_resume.columns],\n",
    "                                    #page_size=10,\n",
    "                                    fixed_rows={'headers': True},\n",
    "                                    style_table={'height': '200px', 'overflowY': 'auto'},\n",
    "                                    id= \"time_data_operators\",\n",
    "                                    data=operators_availability_resume.to_dict(\"records\")                     \n",
    "                                    )\n",
    "                \n",
    "\n",
    "table_card4 = dbc.Card(\n",
    "        dbc.CardBody(\n",
    "                dynamic_table4      \n",
    "                    )\n",
    ")"
   ]
  },
  {
   "cell_type": "code",
   "execution_count": 64,
   "metadata": {},
   "outputs": [
    {
     "data": {
      "application/vnd.plotly.v1+json": {
       "config": {
        "plotlyServerURL": "https://plot.ly"
       },
       "data": [
        {
         "name": "DURATION",
         "type": "bar",
         "x": [
          "40",
          "60",
          "110"
         ],
         "y": [
          0,
          55,
          111.8
         ]
        },
        {
         "name": "STIMATION",
         "type": "bar",
         "x": [
          "40",
          "60",
          "110"
         ],
         "y": [
          8,
          24,
          280
         ]
        },
        {
         "name": "AVAILABILITY",
         "type": "bar",
         "x": [
          "40",
          "60",
          "110"
         ],
         "y": [
          3080,
          2984,
          3032
         ]
        }
       ],
       "layout": {
        "barmode": "group",
        "template": {
         "data": {
          "bar": [
           {
            "error_x": {
             "color": "#2a3f5f"
            },
            "error_y": {
             "color": "#2a3f5f"
            },
            "marker": {
             "line": {
              "color": "#E5ECF6",
              "width": 0.5
             },
             "pattern": {
              "fillmode": "overlay",
              "size": 10,
              "solidity": 0.2
             }
            },
            "type": "bar"
           }
          ],
          "barpolar": [
           {
            "marker": {
             "line": {
              "color": "#E5ECF6",
              "width": 0.5
             },
             "pattern": {
              "fillmode": "overlay",
              "size": 10,
              "solidity": 0.2
             }
            },
            "type": "barpolar"
           }
          ],
          "carpet": [
           {
            "aaxis": {
             "endlinecolor": "#2a3f5f",
             "gridcolor": "white",
             "linecolor": "white",
             "minorgridcolor": "white",
             "startlinecolor": "#2a3f5f"
            },
            "baxis": {
             "endlinecolor": "#2a3f5f",
             "gridcolor": "white",
             "linecolor": "white",
             "minorgridcolor": "white",
             "startlinecolor": "#2a3f5f"
            },
            "type": "carpet"
           }
          ],
          "choropleth": [
           {
            "colorbar": {
             "outlinewidth": 0,
             "ticks": ""
            },
            "type": "choropleth"
           }
          ],
          "contour": [
           {
            "colorbar": {
             "outlinewidth": 0,
             "ticks": ""
            },
            "colorscale": [
             [
              0,
              "#0d0887"
             ],
             [
              0.1111111111111111,
              "#46039f"
             ],
             [
              0.2222222222222222,
              "#7201a8"
             ],
             [
              0.3333333333333333,
              "#9c179e"
             ],
             [
              0.4444444444444444,
              "#bd3786"
             ],
             [
              0.5555555555555556,
              "#d8576b"
             ],
             [
              0.6666666666666666,
              "#ed7953"
             ],
             [
              0.7777777777777778,
              "#fb9f3a"
             ],
             [
              0.8888888888888888,
              "#fdca26"
             ],
             [
              1,
              "#f0f921"
             ]
            ],
            "type": "contour"
           }
          ],
          "contourcarpet": [
           {
            "colorbar": {
             "outlinewidth": 0,
             "ticks": ""
            },
            "type": "contourcarpet"
           }
          ],
          "heatmap": [
           {
            "colorbar": {
             "outlinewidth": 0,
             "ticks": ""
            },
            "colorscale": [
             [
              0,
              "#0d0887"
             ],
             [
              0.1111111111111111,
              "#46039f"
             ],
             [
              0.2222222222222222,
              "#7201a8"
             ],
             [
              0.3333333333333333,
              "#9c179e"
             ],
             [
              0.4444444444444444,
              "#bd3786"
             ],
             [
              0.5555555555555556,
              "#d8576b"
             ],
             [
              0.6666666666666666,
              "#ed7953"
             ],
             [
              0.7777777777777778,
              "#fb9f3a"
             ],
             [
              0.8888888888888888,
              "#fdca26"
             ],
             [
              1,
              "#f0f921"
             ]
            ],
            "type": "heatmap"
           }
          ],
          "heatmapgl": [
           {
            "colorbar": {
             "outlinewidth": 0,
             "ticks": ""
            },
            "colorscale": [
             [
              0,
              "#0d0887"
             ],
             [
              0.1111111111111111,
              "#46039f"
             ],
             [
              0.2222222222222222,
              "#7201a8"
             ],
             [
              0.3333333333333333,
              "#9c179e"
             ],
             [
              0.4444444444444444,
              "#bd3786"
             ],
             [
              0.5555555555555556,
              "#d8576b"
             ],
             [
              0.6666666666666666,
              "#ed7953"
             ],
             [
              0.7777777777777778,
              "#fb9f3a"
             ],
             [
              0.8888888888888888,
              "#fdca26"
             ],
             [
              1,
              "#f0f921"
             ]
            ],
            "type": "heatmapgl"
           }
          ],
          "histogram": [
           {
            "marker": {
             "pattern": {
              "fillmode": "overlay",
              "size": 10,
              "solidity": 0.2
             }
            },
            "type": "histogram"
           }
          ],
          "histogram2d": [
           {
            "colorbar": {
             "outlinewidth": 0,
             "ticks": ""
            },
            "colorscale": [
             [
              0,
              "#0d0887"
             ],
             [
              0.1111111111111111,
              "#46039f"
             ],
             [
              0.2222222222222222,
              "#7201a8"
             ],
             [
              0.3333333333333333,
              "#9c179e"
             ],
             [
              0.4444444444444444,
              "#bd3786"
             ],
             [
              0.5555555555555556,
              "#d8576b"
             ],
             [
              0.6666666666666666,
              "#ed7953"
             ],
             [
              0.7777777777777778,
              "#fb9f3a"
             ],
             [
              0.8888888888888888,
              "#fdca26"
             ],
             [
              1,
              "#f0f921"
             ]
            ],
            "type": "histogram2d"
           }
          ],
          "histogram2dcontour": [
           {
            "colorbar": {
             "outlinewidth": 0,
             "ticks": ""
            },
            "colorscale": [
             [
              0,
              "#0d0887"
             ],
             [
              0.1111111111111111,
              "#46039f"
             ],
             [
              0.2222222222222222,
              "#7201a8"
             ],
             [
              0.3333333333333333,
              "#9c179e"
             ],
             [
              0.4444444444444444,
              "#bd3786"
             ],
             [
              0.5555555555555556,
              "#d8576b"
             ],
             [
              0.6666666666666666,
              "#ed7953"
             ],
             [
              0.7777777777777778,
              "#fb9f3a"
             ],
             [
              0.8888888888888888,
              "#fdca26"
             ],
             [
              1,
              "#f0f921"
             ]
            ],
            "type": "histogram2dcontour"
           }
          ],
          "mesh3d": [
           {
            "colorbar": {
             "outlinewidth": 0,
             "ticks": ""
            },
            "type": "mesh3d"
           }
          ],
          "parcoords": [
           {
            "line": {
             "colorbar": {
              "outlinewidth": 0,
              "ticks": ""
             }
            },
            "type": "parcoords"
           }
          ],
          "pie": [
           {
            "automargin": true,
            "type": "pie"
           }
          ],
          "scatter": [
           {
            "fillpattern": {
             "fillmode": "overlay",
             "size": 10,
             "solidity": 0.2
            },
            "type": "scatter"
           }
          ],
          "scatter3d": [
           {
            "line": {
             "colorbar": {
              "outlinewidth": 0,
              "ticks": ""
             }
            },
            "marker": {
             "colorbar": {
              "outlinewidth": 0,
              "ticks": ""
             }
            },
            "type": "scatter3d"
           }
          ],
          "scattercarpet": [
           {
            "marker": {
             "colorbar": {
              "outlinewidth": 0,
              "ticks": ""
             }
            },
            "type": "scattercarpet"
           }
          ],
          "scattergeo": [
           {
            "marker": {
             "colorbar": {
              "outlinewidth": 0,
              "ticks": ""
             }
            },
            "type": "scattergeo"
           }
          ],
          "scattergl": [
           {
            "marker": {
             "colorbar": {
              "outlinewidth": 0,
              "ticks": ""
             }
            },
            "type": "scattergl"
           }
          ],
          "scattermapbox": [
           {
            "marker": {
             "colorbar": {
              "outlinewidth": 0,
              "ticks": ""
             }
            },
            "type": "scattermapbox"
           }
          ],
          "scatterpolar": [
           {
            "marker": {
             "colorbar": {
              "outlinewidth": 0,
              "ticks": ""
             }
            },
            "type": "scatterpolar"
           }
          ],
          "scatterpolargl": [
           {
            "marker": {
             "colorbar": {
              "outlinewidth": 0,
              "ticks": ""
             }
            },
            "type": "scatterpolargl"
           }
          ],
          "scatterternary": [
           {
            "marker": {
             "colorbar": {
              "outlinewidth": 0,
              "ticks": ""
             }
            },
            "type": "scatterternary"
           }
          ],
          "surface": [
           {
            "colorbar": {
             "outlinewidth": 0,
             "ticks": ""
            },
            "colorscale": [
             [
              0,
              "#0d0887"
             ],
             [
              0.1111111111111111,
              "#46039f"
             ],
             [
              0.2222222222222222,
              "#7201a8"
             ],
             [
              0.3333333333333333,
              "#9c179e"
             ],
             [
              0.4444444444444444,
              "#bd3786"
             ],
             [
              0.5555555555555556,
              "#d8576b"
             ],
             [
              0.6666666666666666,
              "#ed7953"
             ],
             [
              0.7777777777777778,
              "#fb9f3a"
             ],
             [
              0.8888888888888888,
              "#fdca26"
             ],
             [
              1,
              "#f0f921"
             ]
            ],
            "type": "surface"
           }
          ],
          "table": [
           {
            "cells": {
             "fill": {
              "color": "#EBF0F8"
             },
             "line": {
              "color": "white"
             }
            },
            "header": {
             "fill": {
              "color": "#C8D4E3"
             },
             "line": {
              "color": "white"
             }
            },
            "type": "table"
           }
          ]
         },
         "layout": {
          "annotationdefaults": {
           "arrowcolor": "#2a3f5f",
           "arrowhead": 0,
           "arrowwidth": 1
          },
          "autotypenumbers": "strict",
          "coloraxis": {
           "colorbar": {
            "outlinewidth": 0,
            "ticks": ""
           }
          },
          "colorscale": {
           "diverging": [
            [
             0,
             "#8e0152"
            ],
            [
             0.1,
             "#c51b7d"
            ],
            [
             0.2,
             "#de77ae"
            ],
            [
             0.3,
             "#f1b6da"
            ],
            [
             0.4,
             "#fde0ef"
            ],
            [
             0.5,
             "#f7f7f7"
            ],
            [
             0.6,
             "#e6f5d0"
            ],
            [
             0.7,
             "#b8e186"
            ],
            [
             0.8,
             "#7fbc41"
            ],
            [
             0.9,
             "#4d9221"
            ],
            [
             1,
             "#276419"
            ]
           ],
           "sequential": [
            [
             0,
             "#0d0887"
            ],
            [
             0.1111111111111111,
             "#46039f"
            ],
            [
             0.2222222222222222,
             "#7201a8"
            ],
            [
             0.3333333333333333,
             "#9c179e"
            ],
            [
             0.4444444444444444,
             "#bd3786"
            ],
            [
             0.5555555555555556,
             "#d8576b"
            ],
            [
             0.6666666666666666,
             "#ed7953"
            ],
            [
             0.7777777777777778,
             "#fb9f3a"
            ],
            [
             0.8888888888888888,
             "#fdca26"
            ],
            [
             1,
             "#f0f921"
            ]
           ],
           "sequentialminus": [
            [
             0,
             "#0d0887"
            ],
            [
             0.1111111111111111,
             "#46039f"
            ],
            [
             0.2222222222222222,
             "#7201a8"
            ],
            [
             0.3333333333333333,
             "#9c179e"
            ],
            [
             0.4444444444444444,
             "#bd3786"
            ],
            [
             0.5555555555555556,
             "#d8576b"
            ],
            [
             0.6666666666666666,
             "#ed7953"
            ],
            [
             0.7777777777777778,
             "#fb9f3a"
            ],
            [
             0.8888888888888888,
             "#fdca26"
            ],
            [
             1,
             "#f0f921"
            ]
           ]
          },
          "colorway": [
           "#636efa",
           "#EF553B",
           "#00cc96",
           "#ab63fa",
           "#FFA15A",
           "#19d3f3",
           "#FF6692",
           "#B6E880",
           "#FF97FF",
           "#FECB52"
          ],
          "font": {
           "color": "#2a3f5f"
          },
          "geo": {
           "bgcolor": "white",
           "lakecolor": "white",
           "landcolor": "#E5ECF6",
           "showlakes": true,
           "showland": true,
           "subunitcolor": "white"
          },
          "hoverlabel": {
           "align": "left"
          },
          "hovermode": "closest",
          "mapbox": {
           "style": "light"
          },
          "paper_bgcolor": "white",
          "plot_bgcolor": "#E5ECF6",
          "polar": {
           "angularaxis": {
            "gridcolor": "white",
            "linecolor": "white",
            "ticks": ""
           },
           "bgcolor": "#E5ECF6",
           "radialaxis": {
            "gridcolor": "white",
            "linecolor": "white",
            "ticks": ""
           }
          },
          "scene": {
           "xaxis": {
            "backgroundcolor": "#E5ECF6",
            "gridcolor": "white",
            "gridwidth": 2,
            "linecolor": "white",
            "showbackground": true,
            "ticks": "",
            "zerolinecolor": "white"
           },
           "yaxis": {
            "backgroundcolor": "#E5ECF6",
            "gridcolor": "white",
            "gridwidth": 2,
            "linecolor": "white",
            "showbackground": true,
            "ticks": "",
            "zerolinecolor": "white"
           },
           "zaxis": {
            "backgroundcolor": "#E5ECF6",
            "gridcolor": "white",
            "gridwidth": 2,
            "linecolor": "white",
            "showbackground": true,
            "ticks": "",
            "zerolinecolor": "white"
           }
          },
          "shapedefaults": {
           "line": {
            "color": "#2a3f5f"
           }
          },
          "ternary": {
           "aaxis": {
            "gridcolor": "white",
            "linecolor": "white",
            "ticks": ""
           },
           "baxis": {
            "gridcolor": "white",
            "linecolor": "white",
            "ticks": ""
           },
           "bgcolor": "#E5ECF6",
           "caxis": {
            "gridcolor": "white",
            "linecolor": "white",
            "ticks": ""
           }
          },
          "title": {
           "x": 0.05
          },
          "xaxis": {
           "automargin": true,
           "gridcolor": "white",
           "linecolor": "white",
           "ticks": "",
           "title": {
            "standoff": 15
           },
           "zerolinecolor": "white",
           "zerolinewidth": 2
          },
          "yaxis": {
           "automargin": true,
           "gridcolor": "white",
           "linecolor": "white",
           "ticks": "",
           "title": {
            "standoff": 15
           },
           "zerolinecolor": "white",
           "zerolinewidth": 2
          }
         }
        },
        "title": {
         "text": "Time report - Cells"
        }
       }
      }
     },
     "metadata": {},
     "output_type": "display_data"
    },
    {
     "data": {
      "text/html": [
       "<div>\n",
       "<style scoped>\n",
       "    .dataframe tbody tr th:only-of-type {\n",
       "        vertical-align: middle;\n",
       "    }\n",
       "\n",
       "    .dataframe tbody tr th {\n",
       "        vertical-align: top;\n",
       "    }\n",
       "\n",
       "    .dataframe thead th {\n",
       "        text-align: right;\n",
       "    }\n",
       "</style>\n",
       "<table border=\"1\" class=\"dataframe\">\n",
       "  <thead>\n",
       "    <tr style=\"text-align: right;\">\n",
       "      <th></th>\n",
       "      <th>CELL</th>\n",
       "      <th>AVAILABILITY</th>\n",
       "      <th>STIMATION</th>\n",
       "      <th>DURATION</th>\n",
       "    </tr>\n",
       "  </thead>\n",
       "  <tbody>\n",
       "    <tr>\n",
       "      <th>0</th>\n",
       "      <td>40</td>\n",
       "      <td>3080.0</td>\n",
       "      <td>8.0</td>\n",
       "      <td>0.0</td>\n",
       "    </tr>\n",
       "    <tr>\n",
       "      <th>1</th>\n",
       "      <td>60</td>\n",
       "      <td>2984.0</td>\n",
       "      <td>24.0</td>\n",
       "      <td>55.0</td>\n",
       "    </tr>\n",
       "    <tr>\n",
       "      <th>2</th>\n",
       "      <td>110</td>\n",
       "      <td>3032.0</td>\n",
       "      <td>280.0</td>\n",
       "      <td>111.8</td>\n",
       "    </tr>\n",
       "  </tbody>\n",
       "</table>\n",
       "</div>"
      ],
      "text/plain": [
       "  CELL  AVAILABILITY  STIMATION  DURATION\n",
       "0   40        3080.0        8.0       0.0\n",
       "1   60        2984.0       24.0      55.0\n",
       "2  110        3032.0      280.0     111.8"
      ]
     },
     "metadata": {},
     "output_type": "display_data"
    }
   ],
   "source": [
    "# HISTOGRAM CHART - TIME\n",
    "\n",
    "\n",
    "total_time = pd.concat([cells_availability_resume, total_stimation_cell.drop(['CELL'], axis = 1)], axis=1, join='inner')\n",
    "\n",
    "\n",
    "fig4 = go.Figure(data=[\n",
    "    go.Bar(name='DURATION', x=total_time['CELL'], y=total_time['DURATION']),\n",
    "    go.Bar(name='STIMATION', x=total_time['CELL'], y=total_time['STIMATION']),\n",
    "    go.Bar(name='AVAILABILITY', x=total_time['CELL'], y=total_time['AVAILABILITY']),\n",
    "])\n",
    "fig4.update_layout(title_text='Time report - Cells')\n",
    "fig4.update_layout(barmode='group')\n",
    "fig4.show()\n",
    "\n",
    "\n",
    "\n",
    "\n",
    "display(total_time)\n"
   ]
  },
  {
   "cell_type": "code",
   "execution_count": null,
   "metadata": {},
   "outputs": [],
   "source": []
  },
  {
   "cell_type": "code",
   "execution_count": null,
   "metadata": {},
   "outputs": [],
   "source": []
  },
  {
   "cell_type": "code",
   "execution_count": 29,
   "metadata": {},
   "outputs": [
    {
     "data": {
      "text/html": [
       "\n",
       "        <iframe\n",
       "            width=\"100%\"\n",
       "            height=\"650\"\n",
       "            src=\"http://127.0.0.1:8051/\"\n",
       "            frameborder=\"0\"\n",
       "            allowfullscreen\n",
       "            \n",
       "        ></iframe>\n",
       "        "
      ],
      "text/plain": [
       "<IPython.lib.display.IFrame at 0x1e29928d670>"
      ]
     },
     "metadata": {},
     "output_type": "display_data"
    }
   ],
   "source": [
    "app = Dash(__name__, external_stylesheets=[dbc.themes.FLATLY])\n",
    "\n",
    "\n",
    "app.layout = [ navbar, dbc.Container(    \n",
    "\n",
    "                                        html.Div(\n",
    "                                            [\n",
    "                                                dbc.Row(\n",
    "                                                    [\n",
    "                                                        dbc.Col(\n",
    "                                                            [dbc.Row(date_card, style= {'background-color': '#ff8080'}),\n",
    "                                                             dbc.Row(cell_card, style= {'background-color': '#ff8080'}),\n",
    "                                                             dbc.Row(status_card, style= {'background-color': '#ff8080'})],\n",
    "                                                            width = 2, style= {'background-color': '#ff8080'}),\n",
    "\n",
    "                                                        dbc.Col(\n",
    "                                                            [\n",
    "                                                                dbc.Row(\n",
    "                                                                    [\n",
    "                                                                        dbc.Col(table_card, width = 8),\n",
    "                                                                        dbc.Col(table_card2, width = 4)\n",
    "                                                                     ]\n",
    "                                                                ),\n",
    "                                                                dbc.Row(\n",
    "                                                                    [\n",
    "                                                                    dbc.Col(table_card3, width = 4),\n",
    "                                                                    dbc.Col(table_card4, width = 4),\n",
    "                                                                    ]\n",
    "                                                                    \n",
    "                                                                ),\n",
    "                                                                dbc.Row()\n",
    "                                                            ], width = 10, style= {'background-color': '#ff8080'}),\n",
    "                                                    ]\n",
    "                                                )\n",
    "                                            ], \n",
    "                                            style= {'background-color': '#ff8080', 'width': 1850, 'margin':0 })        \n",
    "                                        , \n",
    "                                \n",
    "                                fluid=True,\n",
    "                                style={'display': 'flex'},\n",
    "                                className='dashboard-container')    ]    \n",
    "\n",
    "@app.callback(   \n",
    "    Output(\"total_data2\", 'data'),\n",
    "    Input('selected_cell', 'value'),\n",
    "    Input('status_cell', 'value'),\n",
    "    Input(\"date_filter\", \"start_date\"),\n",
    "    Input(\"date_filter\", \"end_date\")\n",
    " )\n",
    "            \n",
    "\n",
    "def update_table(selected_cell, status_cell, start_date, end_date):\n",
    "\n",
    "    filtered_df= status_table[ \n",
    "                                status_table[\"DUE.DATE\"].between(pd.to_datetime(start_date), pd.to_datetime(end_date))&\n",
    "                                status_table['CELL'].isin(selected_cell)  &\n",
    "                                status_table['TEST.STATUS'].isin(status_cell)\n",
    "                             ] \n",
    "    \n",
    "    return filtered_df.to_dict(\"records\") \n",
    "\n",
    "@app.callback(   \n",
    "    Output(\"time_data\", 'data'),\n",
    "    Input(\"date_filter\", \"start_date\"),\n",
    "    Input(\"date_filter\", \"end_date\"),\n",
    "    prevent_initial_call=True\n",
    "    \n",
    " )\n",
    "            \n",
    "\n",
    "def update_table2(start_date, end_date):\n",
    "\n",
    "    filtered_df2= total_stimation.join(date_df)\n",
    "    filtered_df2 = filtered_df2[ filtered_df2[\"DUE.DATE\"].between(pd.to_datetime(start_date), pd.to_datetime(end_date))]\n",
    "    filtered_df2= filtered_df2.drop(['DUE.DATE'], axis=1)\n",
    "    #pd.to_timedelta(filtered_df2['STIMATION'])\n",
    "    #pd.to_timedelta(filtered_df2['DURATION'])\n",
    "    filtered_df2['STIMATION'] = filtered_df2['STIMATION'] / np.timedelta64(1, 'h')\n",
    "    filtered_df2['DURATION'] = filtered_df2['DURATION'] / np.timedelta64(1, 'h')\n",
    "    \n",
    "    filtered_df2=filtered_df2.groupby(['CELL']).sum().reset_index()\n",
    "    \n",
    "    return filtered_df2.to_dict(\"records\") \n",
    "\n",
    "@app.callback(   \n",
    "    Output(\"time_data_cells\", 'data'),\n",
    "    Input(\"date_filter\", \"start_date\"),\n",
    "    Input(\"date_filter\", \"end_date\"),\n",
    "    prevent_initial_call=True\n",
    "    \n",
    " )\n",
    "            \n",
    "\n",
    "def update_table3(start_date, end_date):\n",
    "\n",
    "    filtered_df3 = cells_calendar.drop(['WEEKDAY'], axis = 1)\n",
    "    filtered_df3 = filtered_df3[ filtered_df3[\"DATE\"].between(pd.to_datetime(start_date), pd.to_datetime(end_date))]\n",
    "    filtered_df3= filtered_df3.drop(['DATE'], axis=1)\n",
    "    filtered_availability_40 = filtered_df3['40'].sum()\n",
    "    filtered_availability_60 = filtered_df3['60'].sum()\n",
    "    filtered_availability_110 = filtered_df3['110'].sum()\n",
    "    filtered_availability_cells = pd.DataFrame({'CELL': ['40', '60', '110'],\n",
    "        'AVAILABILITY': [filtered_availability_40, filtered_availability_60, filtered_availability_110]})\n",
    "\n",
    "    \n",
    "    return filtered_availability_cells.to_dict(\"records\")\n",
    "\n",
    "@app.callback(   \n",
    "    Output(\"time_data_operators\", 'data'),\n",
    "    Input(\"date_filter\", \"start_date\"),\n",
    "    Input(\"date_filter\", \"end_date\"),\n",
    "    prevent_initial_call=True\n",
    "    \n",
    " )\n",
    "\n",
    "def update_table4(start_date, end_date):\n",
    "\n",
    "    filtered_df4 = operators_calendar.drop(['WEEKDAY'], axis = 1)\n",
    "    filtered_df4 = filtered_df4[ filtered_df4[\"DATE\"].between(pd.to_datetime(start_date), pd.to_datetime(end_date))]\n",
    "    filtered_df4= filtered_df4.drop(['DATE'], axis=1)\n",
    "    filtered_availability_operator_40 = filtered_df4[40].sum()\n",
    "    filtered_availability_operator_60 = filtered_df4[60].sum()\n",
    "    filtered_availability_operator_110 = filtered_df4[110].sum()\n",
    "    filtered_availability_operators = pd.DataFrame({'OPERATOR': ['GUERZONI', 'CARLINI', 'RESTANI'],\n",
    "        'AVAILABILITY': [filtered_availability_operator_40, filtered_availability_operator_60, filtered_availability_operator_110]})\n",
    "\n",
    "    \n",
    "    return filtered_availability_operators.to_dict(\"records\")\n",
    "#_________________________________________\n",
    "\n",
    "\n",
    "\n",
    "\n",
    "if __name__ == '__main__':\n",
    "    app.run_server(debug=False,dev_tools_ui=False,dev_tools_props_check=False, port=8051)\n",
    "    \n",
    "\n",
    "\n",
    "\n",
    "\n",
    "#http://127.0.0.1:8051/"
   ]
  },
  {
   "cell_type": "code",
   "execution_count": null,
   "metadata": {},
   "outputs": [],
   "source": []
  }
 ],
 "metadata": {
  "kernelspec": {
   "display_name": "Python 3",
   "language": "python",
   "name": "python3"
  },
  "language_info": {
   "codemirror_mode": {
    "name": "ipython",
    "version": 3
   },
   "file_extension": ".py",
   "mimetype": "text/x-python",
   "name": "python",
   "nbconvert_exporter": "python",
   "pygments_lexer": "ipython3",
   "version": "3.12.6"
  }
 },
 "nbformat": 4,
 "nbformat_minor": 2
}
