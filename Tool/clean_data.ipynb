{
 "cells": [
  {
   "cell_type": "code",
   "execution_count": 142,
   "metadata": {},
   "outputs": [
    {
     "name": "stdout",
     "output_type": "stream",
     "text": [
      "The file has been processed and saved as 'updated_total_data_merged.xlsx'.\n"
     ]
    }
   ],
   "source": [
    "import pandas as pd\n",
    "\n",
    "# 1. Load the file \"total_data_merged.xlsx\" and create a dataframe with it\n",
    "df = pd.read_excel('total_data_merged.xlsx', engine='openpyxl',sheet_name = 'data323_comma')\n",
    "\n",
    "# 2. Read the FIRST column and remove all string 'R' present in the cells\n",
    "df.iloc[:, 0] = df.iloc[:, 0].str.replace('R', '', regex=False)\n",
    "\n",
    "# 3. For each different ODL number read in column 5, assign a test ID\n",
    "# Initialize the starting ID\n",
    "starting_id = 366\n",
    "\n",
    "# Create a dictionary to store the mapping of ODL numbers to test IDs\n",
    "odl_to_test_id = {}\n",
    "\n",
    "# Loop through each row in the dataframe\n",
    "for index, row in df.iterrows():\n",
    "    odl_number = row.iloc[4]\n",
    "    if odl_number not in odl_to_test_id:\n",
    "        odl_to_test_id[odl_number] = f'L{starting_id:06d}'\n",
    "        starting_id += 1\n",
    "    df.at[index, 'TEST.ID'] = odl_to_test_id[odl_number]\n",
    "\n",
    "# 4. In column 8 named \"GAS REFRIGERANTE\", remove the characters \" _PA.txt\" from the cells\n",
    "df['GAS REFRIGERANTE'] = df['GAS REFRIGERANTE'].str.replace(' _PA.txt', '', regex=False)\n",
    "\n",
    "# Save the updated dataframe to a new Excel file\n",
    "#df.to_excel('updated_total_data_merged.xlsx', index=False, engine='openpyxl')\n",
    "\n",
    "print(\"The file has been processed and saved as 'updated_total_data_merged.xlsx'.\")"
   ]
  },
  {
   "cell_type": "code",
   "execution_count": 143,
   "metadata": {},
   "outputs": [],
   "source": [
    "df = df.sort_values(by='TEST.ID')\n"
   ]
  },
  {
   "cell_type": "code",
   "execution_count": 144,
   "metadata": {},
   "outputs": [
    {
     "name": "stdout",
     "output_type": "stream",
     "text": [
      "The number of unique test IDs is: 195\n"
     ]
    }
   ],
   "source": [
    "# Count the number of unique test IDs\n",
    "num_test_ids = df['TEST.ID'].nunique()\n",
    "print(f\"The number of unique test IDs is: {num_test_ids}\")"
   ]
  },
  {
   "cell_type": "code",
   "execution_count": 145,
   "metadata": {},
   "outputs": [
    {
     "name": "stdout",
     "output_type": "stream",
     "text": [
      "The total registered time of the tests is: 16 days 16:04:28\n"
     ]
    }
   ],
   "source": [
    "# Calculate the total amount of time of the tests by summing values in the \"Duration\" column\n",
    "\n",
    "# Convert the \"Duration\" column to timedelta\n",
    "df['Duration'] = df['Duration'].replace('Cannot be calculated', pd.NaT)\n",
    "df['Duration'] = pd.to_timedelta(df['Duration'])\n",
    "total_duration = df['Duration'].sum()\n",
    "\n",
    "print(f\"The total registered time of the tests is: {total_duration}\")"
   ]
  },
  {
   "cell_type": "code",
   "execution_count": 146,
   "metadata": {},
   "outputs": [],
   "source": [
    "df = df.iloc[1:].reset_index(drop=True)\n",
    "# Read the string in the cells for every row in the column \"DATA/ORA COLLAUDO\"\n",
    "# Count 12 characters and remove the rest\n",
    "df['DATA/ORA COLLAUDO'] = df['DATA/ORA COLLAUDO'].str[:10]\n",
    "\n",
    "# Convert the cells to date time format dd/mm/yyyy\n",
    "df['DATA/ORA COLLAUDO'] = pd.to_datetime(df['DATA/ORA COLLAUDO'], format='%d/%m/%Y', errors='coerce')\n",
    "\n",
    "# Drop rows with NaT values in 'DATA/ORA COLLAUDO' column\n",
    "df = df.dropna(subset=['DATA/ORA COLLAUDO'])\n",
    "\n",
    "# Create two different dataframes, df_2023 for rows that contain data from 2023 and df_2024 with data from 2024\n",
    "df_2023 = df[df['DATA/ORA COLLAUDO'].dt.year == 2023]\n",
    "df_2024 = df[df['DATA/ORA COLLAUDO'].dt.year == 2024]\n"
   ]
  },
  {
   "cell_type": "code",
   "execution_count": 147,
   "metadata": {},
   "outputs": [
    {
     "name": "stdout",
     "output_type": "stream",
     "text": [
      "The number of unique test IDs in 2023 is: 114\n",
      "The number of unique test IDs in 2024 is: 80\n"
     ]
    }
   ],
   "source": [
    "# Count the number of unique test IDs\n",
    "num_test_ids_2023 = df_2023['TEST.ID'].nunique()\n",
    "num_test_ids_2024 = df_2024['TEST.ID'].nunique()\n",
    "print(f\"The number of unique test IDs in 2023 is: {num_test_ids_2023}\")\n",
    "print(f\"The number of unique test IDs in 2024 is: {num_test_ids_2024}\")"
   ]
  },
  {
   "cell_type": "code",
   "execution_count": 148,
   "metadata": {},
   "outputs": [
    {
     "name": "stdout",
     "output_type": "stream",
     "text": [
      "The total registered time in 2023  is: 8 days 22:45:36\n",
      "The total registered time in 2024  is: 7 days 15:05:19\n"
     ]
    }
   ],
   "source": [
    "# Calculate the total amount of time of the tests by summing values in the \"Duration\" column\n",
    "total_duration_2023 = df_2023['Duration'].sum()\n",
    "total_duration_2024 = df_2024['Duration'].sum()\n",
    "print(f\"The total registered time in 2023  is: {total_duration_2023}\")\n",
    "print(f\"The total registered time in 2024  is: {total_duration_2024}\")"
   ]
  },
  {
   "cell_type": "code",
   "execution_count": 149,
   "metadata": {},
   "outputs": [],
   "source": [
    "df_2023_60 = df_2023[df_2023['STAZIONE DI COLLAUDO'] == \"60\"]\n",
    "df_2023_110 = df_2023[df_2023['STAZIONE DI COLLAUDO'] == \"110\"]\n",
    "\n",
    "df_2024_60 = df_2024[df_2024['STAZIONE DI COLLAUDO'] == \"60\"]\n",
    "df_2024_110 = df_2024[df_2024['STAZIONE DI COLLAUDO'] == \"110\"]"
   ]
  },
  {
   "cell_type": "code",
   "execution_count": 150,
   "metadata": {},
   "outputs": [
    {
     "name": "stdout",
     "output_type": "stream",
     "text": [
      "The number of test for cell 60 in 2023: 50\n",
      "The number of test for cell 110 in 2023: 70\n",
      "The number of test for cell 60 in 2024: 31\n",
      "The number of test for cell 110 in 2024: 56\n"
     ]
    }
   ],
   "source": [
    "# Count the number of unique test IDs\n",
    "num_test_60_2023 = df_2023_60['TEST.ID'].nunique()\n",
    "print(f\"The number of test for cell 60 in 2023: {num_test_60_2023}\")\n",
    "\n",
    "num_test_110_2023 = df_2023_110['TEST.ID'].nunique()\n",
    "print(f\"The number of test for cell 110 in 2023: {num_test_110_2023}\")\n",
    "\n",
    "num_test_60_2024 = df_2024_60['TEST.ID'].nunique()\n",
    "print(f\"The number of test for cell 60 in 2024: {num_test_60_2024}\")\n",
    "\n",
    "num_test_110_2024 = df_2024_110['TEST.ID'].nunique()\n",
    "print(f\"The number of test for cell 110 in 2024: {num_test_110_2024}\")"
   ]
  },
  {
   "cell_type": "code",
   "execution_count": 151,
   "metadata": {},
   "outputs": [
    {
     "name": "stdout",
     "output_type": "stream",
     "text": [
      "The number of test (WATER) for cell 60 in 2023: 43\n",
      "The number of test (GLYCOL) for cell 60 in 2023: 4\n",
      "The number of test (OIL) for cell 60 in 2023: 3\n",
      "The number of test (WATER) for cell 60 in 2024: 24\n",
      "The number of test (GLYCOL) for cell 60 in 2024: 3\n",
      "The number of test (OIL) for cell 60 in 2024: 4\n"
     ]
    }
   ],
   "source": [
    "# Count the number of unique test IDs\n",
    "df_2023_60_water = df_2023_60[df_2023_60['FLUIDO'] == \"ACQUA\"]\n",
    "num_test_60_2023_water = df_2023_60_water['TEST.ID'].nunique()\n",
    "print(f\"The number of test (WATER) for cell 60 in 2023: {num_test_60_2023_water}\")\n",
    "\n",
    "df_2023_60_glicol = df_2023_60[df_2023_60['FLUIDO'] == \"GLICOLE\"]\n",
    "num_test_60_2023_glicol = df_2023_60_glicol['TEST.ID'].nunique()\n",
    "print(f\"The number of test (GLYCOL) for cell 60 in 2023: {num_test_60_2023_glicol}\")\n",
    "\n",
    "df_2023_60_oil = df_2023_60[df_2023_60['FLUIDO'] == \"OLIO\"]\n",
    "num_test_60_2023_oil= df_2023_60_oil['TEST.ID'].nunique()\n",
    "print(f\"The number of test (OIL) for cell 60 in 2023: {num_test_60_2023_oil}\")\n",
    "\n",
    "df_2024_60_water = df_2024_60[df_2024_60['FLUIDO'] == \"ACQUA\"]\n",
    "num_test_60_2024_water = df_2024_60_water['TEST.ID'].nunique()\n",
    "print(f\"The number of test (WATER) for cell 60 in 2024: {num_test_60_2024_water}\")\n",
    "\n",
    "df_2024_60_glicol = df_2024_60[df_2024_60['FLUIDO'] == \"GLICOLE\"]\n",
    "num_test_60_2024_glicol = df_2024_60_glicol['TEST.ID'].nunique()\n",
    "print(f\"The number of test (GLYCOL) for cell 60 in 2024: {num_test_60_2024_glicol}\")\n",
    "\n",
    "df_2024_60_oil = df_2024_60[df_2024_60['FLUIDO'] == \"OLIO\"]\n",
    "num_test_60_2024_oil= df_2024_60_oil['TEST.ID'].nunique()\n",
    "print(f\"The number of test (OIL) for cell 60 in 2024: {num_test_60_2024_oil}\")\n",
    "\n"
   ]
  },
  {
   "cell_type": "code",
   "execution_count": 152,
   "metadata": {},
   "outputs": [
    {
     "name": "stdout",
     "output_type": "stream",
     "text": [
      "The number of test (WATER) for cell 110 in 2023: 48\n",
      "The number of test (GLYCOL) for cell 110 in 2023: 11\n",
      "The number of test (OIL) for cell 110 in 2023: 14\n",
      "The number of test (WATER) for cell 110 in 2024: 45\n",
      "The number of test (GLYCOL) for cell 110 in 2024: 3\n",
      "The number of test (OIL) for cell 110 in 2024: 9\n"
     ]
    }
   ],
   "source": [
    "df_2023_110_water = df_2023_110[df_2023_110['FLUIDO'] == \"ACQUA\"]\n",
    "num_test_110_2023_water = df_2023_110_water['TEST.ID'].nunique()\n",
    "print(f\"The number of test (WATER) for cell 110 in 2023: {num_test_110_2023_water}\")\n",
    "\n",
    "df_2023_110_glicol = df_2023_110[df_2023_110['FLUIDO'] == \"GLICOLE\"]\n",
    "num_test_110_2023_glicol = df_2023_110_glicol['TEST.ID'].nunique()\n",
    "print(f\"The number of test (GLYCOL) for cell 110 in 2023: {num_test_110_2023_glicol}\")\n",
    "\n",
    "df_2023_110_oil = df_2023_110[df_2023_110['FLUIDO'] == \"OLIO\"]\n",
    "num_test_110_2023_oil= df_2023_110_oil['TEST.ID'].nunique()\n",
    "print(f\"The number of test (OIL) for cell 110 in 2023: {num_test_110_2023_oil}\")\n",
    "\n",
    "df_2024_110_water = df_2024_110[df_2024_110['FLUIDO'] == \"ACQUA\"]\n",
    "num_test_110_2024_water = df_2024_110_water['TEST.ID'].nunique()\n",
    "print(f\"The number of test (WATER) for cell 110 in 2024: {num_test_110_2024_water}\")\n",
    "\n",
    "df_2024_110_glicol = df_2024_110[df_2024_110['FLUIDO'] == \"GLICOLE\"]\n",
    "num_test_110_2024_glicol = df_2024_110_glicol['TEST.ID'].nunique()\n",
    "print(f\"The number of test (GLYCOL) for cell 110 in 2024: {num_test_110_2024_glicol}\")\n",
    "\n",
    "df_2024_110_oil = df_2024_110[df_2024_110['FLUIDO'] == \"OLIO\"]\n",
    "num_test_110_2024_oil= df_2024_110_oil['TEST.ID'].nunique()\n",
    "print(f\"The number of test (OIL) for cell 110 in 2024: {num_test_110_2024_oil}\")"
   ]
  },
  {
   "cell_type": "code",
   "execution_count": 153,
   "metadata": {},
   "outputs": [
    {
     "name": "stdout",
     "output_type": "stream",
     "text": [
      "Carlini in 2023 cell 60 performed this amount of tests: 19\n",
      "Restani in 2023 cell 60 performed this amount of tests: 37\n"
     ]
    }
   ],
   "source": [
    "df_2023_Carlini = df_2023_60[df_2023_60['OPERATORE'].str.contains(\"CARLINI\", na=False)]\n",
    "num_test_60_2023_Carlini = df_2023_Carlini['TEST.ID'].nunique()\n",
    "print(f\"Carlini in 2023 cell 60 performed this amount of tests: {num_test_60_2023_Carlini}\")\n",
    "\n",
    "df_2023_Restani = df_2023_60[df_2023_60['OPERATORE'].str.contains(\"RESTANI\", na=False)]\n",
    "num_test_60_2023_Restani = df_2023_Restani['TEST.ID'].nunique()\n",
    "print(f\"Restani in 2023 cell 60 performed this amount of tests: {num_test_60_2023_Restani}\")"
   ]
  },
  {
   "cell_type": "code",
   "execution_count": 154,
   "metadata": {},
   "outputs": [
    {
     "name": "stdout",
     "output_type": "stream",
     "text": [
      "                   Number of Tests  Percentage of Total Tests\n",
      "OPERATORE                                                    \n",
      "1 CARLINI MIRCO                 53                  27.461140\n",
      "1 GUERZONI GIULIO                1                   0.518135\n",
      "1 RESTANI MATTEO               109                  56.476684\n",
      "RESTANI MATTEO                  30                  15.544041\n"
     ]
    }
   ],
   "source": [
    "# Check if there are multiple operators for the same test\n",
    "test_operator_counts = df.groupby('TEST.ID')['OPERATORE'].nunique()\n",
    "tests_with_multiple_operators = test_operator_counts[test_operator_counts > 1]\n",
    "table_multiple_operators = pd.DataFrame(tests_with_multiple_operators)\n",
    "\n",
    "# Handle cases with multiple operators\n",
    "for test_id in tests_with_multiple_operators.index:\n",
    "    test_rows = df[df['TEST.ID'] == test_id]\n",
    "    for index, row in test_rows.iterrows():\n",
    "        if row['STAZIONE DI COLLAUDO'] == 60:\n",
    "            df.at[index, 'OPERATORE'] = 'CARLINI MIRCO'\n",
    "        else:\n",
    "            df.at[index, 'OPERATORE'] = 'RESTANI MATTEO'\n",
    "\n",
    "# Group by 'operatore' and count the number of unique 'TEST.ID' for each operator\n",
    "operator_test_counts = df.groupby('OPERATORE')['TEST.ID'].nunique()\n",
    "\n",
    "# Calculate the total number of tests\n",
    "total_tests = df['TEST.ID'].nunique()\n",
    "\n",
    "# Calculate the percentage of tests carried out by each operator\n",
    "operator_test_percentages = (operator_test_counts / total_tests) * 100\n",
    "\n",
    "# Combine the counts and percentages into a single DataFrame\n",
    "operator_test_summary = pd.DataFrame({\n",
    "    'Number of Tests': operator_test_counts,\n",
    "    'Percentage of Total Tests': operator_test_percentages\n",
    "})\n",
    "\n",
    "print(operator_test_summary)"
   ]
  },
  {
   "cell_type": "code",
   "execution_count": 180,
   "metadata": {},
   "outputs": [
    {
     "data": {
      "text/html": [
       "<div>\n",
       "<style scoped>\n",
       "    .dataframe tbody tr th:only-of-type {\n",
       "        vertical-align: middle;\n",
       "    }\n",
       "\n",
       "    .dataframe tbody tr th {\n",
       "        vertical-align: top;\n",
       "    }\n",
       "\n",
       "    .dataframe thead th {\n",
       "        text-align: right;\n",
       "    }\n",
       "</style>\n",
       "<table border=\"1\" class=\"dataframe\">\n",
       "  <thead>\n",
       "    <tr style=\"text-align: right;\">\n",
       "      <th></th>\n",
       "      <th>OPERATORE</th>\n",
       "    </tr>\n",
       "    <tr>\n",
       "      <th>TEST.ID</th>\n",
       "      <th></th>\n",
       "    </tr>\n",
       "  </thead>\n",
       "  <tbody>\n",
       "    <tr>\n",
       "      <th>L000367</th>\n",
       "      <td>2</td>\n",
       "    </tr>\n",
       "    <tr>\n",
       "      <th>L000372</th>\n",
       "      <td>2</td>\n",
       "    </tr>\n",
       "    <tr>\n",
       "      <th>L000373</th>\n",
       "      <td>2</td>\n",
       "    </tr>\n",
       "    <tr>\n",
       "      <th>L000376</th>\n",
       "      <td>2</td>\n",
       "    </tr>\n",
       "    <tr>\n",
       "      <th>L000381</th>\n",
       "      <td>2</td>\n",
       "    </tr>\n",
       "    <tr>\n",
       "      <th>L000382</th>\n",
       "      <td>2</td>\n",
       "    </tr>\n",
       "    <tr>\n",
       "      <th>L000384</th>\n",
       "      <td>2</td>\n",
       "    </tr>\n",
       "    <tr>\n",
       "      <th>L000389</th>\n",
       "      <td>2</td>\n",
       "    </tr>\n",
       "    <tr>\n",
       "      <th>L000396</th>\n",
       "      <td>2</td>\n",
       "    </tr>\n",
       "    <tr>\n",
       "      <th>L000397</th>\n",
       "      <td>2</td>\n",
       "    </tr>\n",
       "    <tr>\n",
       "      <th>L000399</th>\n",
       "      <td>2</td>\n",
       "    </tr>\n",
       "    <tr>\n",
       "      <th>L000400</th>\n",
       "      <td>2</td>\n",
       "    </tr>\n",
       "    <tr>\n",
       "      <th>L000401</th>\n",
       "      <td>2</td>\n",
       "    </tr>\n",
       "    <tr>\n",
       "      <th>L000420</th>\n",
       "      <td>2</td>\n",
       "    </tr>\n",
       "    <tr>\n",
       "      <th>L000424</th>\n",
       "      <td>3</td>\n",
       "    </tr>\n",
       "    <tr>\n",
       "      <th>L000429</th>\n",
       "      <td>2</td>\n",
       "    </tr>\n",
       "    <tr>\n",
       "      <th>L000437</th>\n",
       "      <td>3</td>\n",
       "    </tr>\n",
       "    <tr>\n",
       "      <th>L000439</th>\n",
       "      <td>2</td>\n",
       "    </tr>\n",
       "    <tr>\n",
       "      <th>L000441</th>\n",
       "      <td>3</td>\n",
       "    </tr>\n",
       "    <tr>\n",
       "      <th>L000444</th>\n",
       "      <td>2</td>\n",
       "    </tr>\n",
       "    <tr>\n",
       "      <th>L000448</th>\n",
       "      <td>2</td>\n",
       "    </tr>\n",
       "    <tr>\n",
       "      <th>L000454</th>\n",
       "      <td>2</td>\n",
       "    </tr>\n",
       "    <tr>\n",
       "      <th>L000457</th>\n",
       "      <td>2</td>\n",
       "    </tr>\n",
       "    <tr>\n",
       "      <th>L000468</th>\n",
       "      <td>2</td>\n",
       "    </tr>\n",
       "    <tr>\n",
       "      <th>L000471</th>\n",
       "      <td>2</td>\n",
       "    </tr>\n",
       "    <tr>\n",
       "      <th>L000477</th>\n",
       "      <td>2</td>\n",
       "    </tr>\n",
       "    <tr>\n",
       "      <th>L000490</th>\n",
       "      <td>2</td>\n",
       "    </tr>\n",
       "    <tr>\n",
       "      <th>L000495</th>\n",
       "      <td>2</td>\n",
       "    </tr>\n",
       "    <tr>\n",
       "      <th>L000515</th>\n",
       "      <td>2</td>\n",
       "    </tr>\n",
       "    <tr>\n",
       "      <th>L000519</th>\n",
       "      <td>2</td>\n",
       "    </tr>\n",
       "  </tbody>\n",
       "</table>\n",
       "</div>"
      ],
      "text/plain": [
       "         OPERATORE\n",
       "TEST.ID           \n",
       "L000367          2\n",
       "L000372          2\n",
       "L000373          2\n",
       "L000376          2\n",
       "L000381          2\n",
       "L000382          2\n",
       "L000384          2\n",
       "L000389          2\n",
       "L000396          2\n",
       "L000397          2\n",
       "L000399          2\n",
       "L000400          2\n",
       "L000401          2\n",
       "L000420          2\n",
       "L000424          3\n",
       "L000429          2\n",
       "L000437          3\n",
       "L000439          2\n",
       "L000441          3\n",
       "L000444          2\n",
       "L000448          2\n",
       "L000454          2\n",
       "L000457          2\n",
       "L000468          2\n",
       "L000471          2\n",
       "L000477          2\n",
       "L000490          2\n",
       "L000495          2\n",
       "L000515          2\n",
       "L000519          2"
      ]
     },
     "execution_count": 180,
     "metadata": {},
     "output_type": "execute_result"
    }
   ],
   "source": [
    "table_multiple_operators.head(1000)"
   ]
  },
  {
   "cell_type": "code",
   "execution_count": 172,
   "metadata": {},
   "outputs": [],
   "source": [
    "# Read the values in the first column ['TEST.ID'] of dataframe table_multiple_operators\n",
    "test_ids_multiple_operators = table_multiple_operators.index.values.tolist()\n",
    "# Replace the value at column \"OPERATORE\" by value \"MULTIPLE\" in dataframe df when the same values are found in column \"TEST.ID\"\n",
    "df.loc[df['TEST.ID'].isin(test_ids_multiple_operators), 'OPERATORE'] = 'MULTIPLE'\n"
   ]
  },
  {
   "cell_type": "code",
   "execution_count": 175,
   "metadata": {},
   "outputs": [
    {
     "name": "stdout",
     "output_type": "stream",
     "text": [
      "                   Number of Tests  Percentage of Total Tests\n",
      "OPERATORE                                                    \n",
      "1 CARLINI MIRCO                 53                  27.461140\n",
      "1 GUERZONI GIULIO                1                   0.518135\n",
      "1 RESTANI MATTEO               109                  56.476684\n",
      "MULTIPLE                        30                  15.544041\n"
     ]
    }
   ],
   "source": [
    "# Check if there are multiple operators for the same test\n",
    "test_operator_counts2 = df.groupby('TEST.ID')['OPERATORE'].nunique()\n",
    "tests_with_multiple_operators2 = test_operator_counts2[test_operator_counts2 > 1]\n",
    "table_multiple_operators2 = pd.DataFrame(tests_with_multiple_operators2)\n",
    "\n",
    "# Handle cases with multiple operators\n",
    "for test_id in tests_with_multiple_operators2.index:\n",
    "    test_rows = df[df['TEST.ID'] == test_id]\n",
    "    for index, row in test_rows.iterrows():\n",
    "        if row['STAZIONE DI COLLAUDO'] == 60:\n",
    "            df.at[index, 'OPERATORE'] = 'CARLINI MIRCO'\n",
    "        else:\n",
    "            df.at[index, 'OPERATORE'] = 'RESTANI MATTEO'\n",
    "\n",
    "# Group by 'operatore' and count the number of unique 'TEST.ID' for each operator\n",
    "operator_test_counts = df.groupby('OPERATORE')['TEST.ID'].nunique()\n",
    "\n",
    "# Calculate the total number of tests\n",
    "total_tests = df['TEST.ID'].nunique()\n",
    "\n",
    "# Calculate the percentage of tests carried out by each operator\n",
    "operator_test_percentages = (operator_test_counts / total_tests) * 100\n",
    "\n",
    "# Combine the counts and percentages into a single DataFrame\n",
    "operator_test_summary = pd.DataFrame({\n",
    "    'Number of Tests': operator_test_counts,\n",
    "    'Percentage of Total Tests': operator_test_percentages\n",
    "})\n",
    "\n",
    "print(operator_test_summary)"
   ]
  },
  {
   "cell_type": "code",
   "execution_count": null,
   "metadata": {},
   "outputs": [],
   "source": []
  }
 ],
 "metadata": {
  "kernelspec": {
   "display_name": "Python 3",
   "language": "python",
   "name": "python3"
  },
  "language_info": {
   "codemirror_mode": {
    "name": "ipython",
    "version": 3
   },
   "file_extension": ".py",
   "mimetype": "text/x-python",
   "name": "python",
   "nbconvert_exporter": "python",
   "pygments_lexer": "ipython3",
   "version": "3.12.6"
  }
 },
 "nbformat": 4,
 "nbformat_minor": 2
}
